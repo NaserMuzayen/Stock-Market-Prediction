{
  "nbformat": 4,
  "nbformat_minor": 0,
  "metadata": {
    "colab": {
      "name": "Stock-Market-Prediction.ipynb",
      "provenance": [],
      "collapsed_sections": []
    },
    "kernelspec": {
      "name": "python3",
      "display_name": "Python 3"
    },
    "language_info": {
      "name": "python"
    }
  },
  "cells": [
    {
      "cell_type": "markdown",
      "source": [
        "#Mohammad Naser Muzayen"
      ],
      "metadata": {
        "id": "2npDxbXSoDlL"
      }
    },
    {
      "cell_type": "markdown",
      "source": [
        "##Data Science and Business Analytics Intern\n",
        "##Stock Market Prediction"
      ],
      "metadata": {
        "id": "M26FjKXCoDUn"
      }
    },
    {
      "cell_type": "markdown",
      "source": [
        "##1 - Numerical analysis of historical stock prices"
      ],
      "metadata": {
        "id": "xX_900EiaMpW"
      }
    },
    {
      "cell_type": "markdown",
      "source": [
        "###Download Data"
      ],
      "metadata": {
        "id": "sgFKQPXpn-L2"
      }
    },
    {
      "cell_type": "code",
      "source": [
        "import pandas as pd\n",
        "import numpy as np\n",
        "import matplotlib.pyplot as plt"
      ],
      "metadata": {
        "id": "ax_lSRa0mtL5"
      },
      "execution_count": null,
      "outputs": []
    },
    {
      "cell_type": "code",
      "source": [
        "start = pd.to_datetime(['2017-01-01']).astype(int)[0]//10**9 # convert to unix timestamp.\n",
        "end = pd.to_datetime(['2022-04-17']).astype(int)[0]//10**9 # convert to unix timestamp.\n",
        "url = 'https://query1.finance.yahoo.com/v7/finance/download/' + 'AMZN' + '?period1=' + str(start) + '&period2=' + str(end) + '&interval=1d&events=history'\n",
        "df = pd.read_csv(url)"
      ],
      "metadata": {
        "colab": {
          "base_uri": "https://localhost:8080/"
        },
        "id": "E6VVIm7dnLOu",
        "outputId": "acb08b6e-29eb-47f9-f084-0d55cc553024"
      },
      "execution_count": null,
      "outputs": [
        {
          "output_type": "stream",
          "name": "stderr",
          "text": [
            "/usr/local/lib/python3.7/dist-packages/ipykernel_launcher.py:1: FutureWarning: casting datetime64[ns] values to int64 with .astype(...) is deprecated and will raise in a future version. Use .view(...) instead.\n",
            "  \"\"\"Entry point for launching an IPython kernel.\n",
            "/usr/local/lib/python3.7/dist-packages/ipykernel_launcher.py:2: FutureWarning: casting datetime64[ns] values to int64 with .astype(...) is deprecated and will raise in a future version. Use .view(...) instead.\n",
            "  \n"
          ]
        }
      ]
    },
    {
      "cell_type": "code",
      "source": [
        "df.to_csv('amazon.csv')"
      ],
      "metadata": {
        "id": "afh96y1AnUI2"
      },
      "execution_count": null,
      "outputs": []
    },
    {
      "cell_type": "code",
      "source": [
        "df.head()"
      ],
      "metadata": {
        "colab": {
          "base_uri": "https://localhost:8080/",
          "height": 206
        },
        "id": "e7ksyrqgnbrn",
        "outputId": "e1baa0f6-37f4-46d3-965b-0983cfd7bb49"
      },
      "execution_count": null,
      "outputs": [
        {
          "output_type": "execute_result",
          "data": {
            "text/plain": [
              "         Date        Open        High         Low       Close   Adj Close  \\\n",
              "0  2017-01-03  757.919983  758.760010  747.700012  753.669983  753.669983   \n",
              "1  2017-01-04  758.390015  759.679993  754.200012  757.179993  757.179993   \n",
              "2  2017-01-05  761.549988  782.400024  760.260010  780.450012  780.450012   \n",
              "3  2017-01-06  782.359985  799.440002  778.479980  795.989990  795.989990   \n",
              "4  2017-01-09  798.000000  801.770020  791.770020  796.919983  796.919983   \n",
              "\n",
              "    Volume  \n",
              "0  3521100  \n",
              "1  2510500  \n",
              "2  5830100  \n",
              "3  5986200  \n",
              "4  3446100  "
            ],
            "text/html": [
              "\n",
              "  <div id=\"df-c925238e-c6b3-447c-96eb-90a8911796d4\">\n",
              "    <div class=\"colab-df-container\">\n",
              "      <div>\n",
              "<style scoped>\n",
              "    .dataframe tbody tr th:only-of-type {\n",
              "        vertical-align: middle;\n",
              "    }\n",
              "\n",
              "    .dataframe tbody tr th {\n",
              "        vertical-align: top;\n",
              "    }\n",
              "\n",
              "    .dataframe thead th {\n",
              "        text-align: right;\n",
              "    }\n",
              "</style>\n",
              "<table border=\"1\" class=\"dataframe\">\n",
              "  <thead>\n",
              "    <tr style=\"text-align: right;\">\n",
              "      <th></th>\n",
              "      <th>Date</th>\n",
              "      <th>Open</th>\n",
              "      <th>High</th>\n",
              "      <th>Low</th>\n",
              "      <th>Close</th>\n",
              "      <th>Adj Close</th>\n",
              "      <th>Volume</th>\n",
              "    </tr>\n",
              "  </thead>\n",
              "  <tbody>\n",
              "    <tr>\n",
              "      <th>0</th>\n",
              "      <td>2017-01-03</td>\n",
              "      <td>757.919983</td>\n",
              "      <td>758.760010</td>\n",
              "      <td>747.700012</td>\n",
              "      <td>753.669983</td>\n",
              "      <td>753.669983</td>\n",
              "      <td>3521100</td>\n",
              "    </tr>\n",
              "    <tr>\n",
              "      <th>1</th>\n",
              "      <td>2017-01-04</td>\n",
              "      <td>758.390015</td>\n",
              "      <td>759.679993</td>\n",
              "      <td>754.200012</td>\n",
              "      <td>757.179993</td>\n",
              "      <td>757.179993</td>\n",
              "      <td>2510500</td>\n",
              "    </tr>\n",
              "    <tr>\n",
              "      <th>2</th>\n",
              "      <td>2017-01-05</td>\n",
              "      <td>761.549988</td>\n",
              "      <td>782.400024</td>\n",
              "      <td>760.260010</td>\n",
              "      <td>780.450012</td>\n",
              "      <td>780.450012</td>\n",
              "      <td>5830100</td>\n",
              "    </tr>\n",
              "    <tr>\n",
              "      <th>3</th>\n",
              "      <td>2017-01-06</td>\n",
              "      <td>782.359985</td>\n",
              "      <td>799.440002</td>\n",
              "      <td>778.479980</td>\n",
              "      <td>795.989990</td>\n",
              "      <td>795.989990</td>\n",
              "      <td>5986200</td>\n",
              "    </tr>\n",
              "    <tr>\n",
              "      <th>4</th>\n",
              "      <td>2017-01-09</td>\n",
              "      <td>798.000000</td>\n",
              "      <td>801.770020</td>\n",
              "      <td>791.770020</td>\n",
              "      <td>796.919983</td>\n",
              "      <td>796.919983</td>\n",
              "      <td>3446100</td>\n",
              "    </tr>\n",
              "  </tbody>\n",
              "</table>\n",
              "</div>\n",
              "      <button class=\"colab-df-convert\" onclick=\"convertToInteractive('df-c925238e-c6b3-447c-96eb-90a8911796d4')\"\n",
              "              title=\"Convert this dataframe to an interactive table.\"\n",
              "              style=\"display:none;\">\n",
              "        \n",
              "  <svg xmlns=\"http://www.w3.org/2000/svg\" height=\"24px\"viewBox=\"0 0 24 24\"\n",
              "       width=\"24px\">\n",
              "    <path d=\"M0 0h24v24H0V0z\" fill=\"none\"/>\n",
              "    <path d=\"M18.56 5.44l.94 2.06.94-2.06 2.06-.94-2.06-.94-.94-2.06-.94 2.06-2.06.94zm-11 1L8.5 8.5l.94-2.06 2.06-.94-2.06-.94L8.5 2.5l-.94 2.06-2.06.94zm10 10l.94 2.06.94-2.06 2.06-.94-2.06-.94-.94-2.06-.94 2.06-2.06.94z\"/><path d=\"M17.41 7.96l-1.37-1.37c-.4-.4-.92-.59-1.43-.59-.52 0-1.04.2-1.43.59L10.3 9.45l-7.72 7.72c-.78.78-.78 2.05 0 2.83L4 21.41c.39.39.9.59 1.41.59.51 0 1.02-.2 1.41-.59l7.78-7.78 2.81-2.81c.8-.78.8-2.07 0-2.86zM5.41 20L4 18.59l7.72-7.72 1.47 1.35L5.41 20z\"/>\n",
              "  </svg>\n",
              "      </button>\n",
              "      \n",
              "  <style>\n",
              "    .colab-df-container {\n",
              "      display:flex;\n",
              "      flex-wrap:wrap;\n",
              "      gap: 12px;\n",
              "    }\n",
              "\n",
              "    .colab-df-convert {\n",
              "      background-color: #E8F0FE;\n",
              "      border: none;\n",
              "      border-radius: 50%;\n",
              "      cursor: pointer;\n",
              "      display: none;\n",
              "      fill: #1967D2;\n",
              "      height: 32px;\n",
              "      padding: 0 0 0 0;\n",
              "      width: 32px;\n",
              "    }\n",
              "\n",
              "    .colab-df-convert:hover {\n",
              "      background-color: #E2EBFA;\n",
              "      box-shadow: 0px 1px 2px rgba(60, 64, 67, 0.3), 0px 1px 3px 1px rgba(60, 64, 67, 0.15);\n",
              "      fill: #174EA6;\n",
              "    }\n",
              "\n",
              "    [theme=dark] .colab-df-convert {\n",
              "      background-color: #3B4455;\n",
              "      fill: #D2E3FC;\n",
              "    }\n",
              "\n",
              "    [theme=dark] .colab-df-convert:hover {\n",
              "      background-color: #434B5C;\n",
              "      box-shadow: 0px 1px 3px 1px rgba(0, 0, 0, 0.15);\n",
              "      filter: drop-shadow(0px 1px 2px rgba(0, 0, 0, 0.3));\n",
              "      fill: #FFFFFF;\n",
              "    }\n",
              "  </style>\n",
              "\n",
              "      <script>\n",
              "        const buttonEl =\n",
              "          document.querySelector('#df-c925238e-c6b3-447c-96eb-90a8911796d4 button.colab-df-convert');\n",
              "        buttonEl.style.display =\n",
              "          google.colab.kernel.accessAllowed ? 'block' : 'none';\n",
              "\n",
              "        async function convertToInteractive(key) {\n",
              "          const element = document.querySelector('#df-c925238e-c6b3-447c-96eb-90a8911796d4');\n",
              "          const dataTable =\n",
              "            await google.colab.kernel.invokeFunction('convertToInteractive',\n",
              "                                                     [key], {});\n",
              "          if (!dataTable) return;\n",
              "\n",
              "          const docLinkHtml = 'Like what you see? Visit the ' +\n",
              "            '<a target=\"_blank\" href=https://colab.research.google.com/notebooks/data_table.ipynb>data table notebook</a>'\n",
              "            + ' to learn more about interactive tables.';\n",
              "          element.innerHTML = '';\n",
              "          dataTable['output_type'] = 'display_data';\n",
              "          await google.colab.output.renderOutput(dataTable, element);\n",
              "          const docLink = document.createElement('div');\n",
              "          docLink.innerHTML = docLinkHtml;\n",
              "          element.appendChild(docLink);\n",
              "        }\n",
              "      </script>\n",
              "    </div>\n",
              "  </div>\n",
              "  "
            ]
          },
          "metadata": {},
          "execution_count": 41
        }
      ]
    },
    {
      "cell_type": "markdown",
      "source": [
        "###Data Visuvalization"
      ],
      "metadata": {
        "id": "4upR8TYgv57z"
      }
    },
    {
      "cell_type": "code",
      "source": [
        "close = df.reset_index()['Close']"
      ],
      "metadata": {
        "id": "LWtRgRwCnfeY"
      },
      "execution_count": null,
      "outputs": []
    },
    {
      "cell_type": "code",
      "source": [
        "close.head()"
      ],
      "metadata": {
        "colab": {
          "base_uri": "https://localhost:8080/"
        },
        "id": "vBRMAVUAwSgL",
        "outputId": "b7077f11-4ca9-40ed-d2fe-17819065346a"
      },
      "execution_count": null,
      "outputs": [
        {
          "output_type": "execute_result",
          "data": {
            "text/plain": [
              "0    753.669983\n",
              "1    757.179993\n",
              "2    780.450012\n",
              "3    795.989990\n",
              "4    796.919983\n",
              "Name: Close, dtype: float64"
            ]
          },
          "metadata": {},
          "execution_count": 43
        }
      ]
    },
    {
      "cell_type": "code",
      "source": [
        "plt.plot(close)"
      ],
      "metadata": {
        "colab": {
          "base_uri": "https://localhost:8080/",
          "height": 282
        },
        "id": "cl0IHIwOwU54",
        "outputId": "c018e1e3-eb17-4f0c-ec25-3a6d87dfbbae"
      },
      "execution_count": null,
      "outputs": [
        {
          "output_type": "execute_result",
          "data": {
            "text/plain": [
              "[<matplotlib.lines.Line2D at 0x7f600b715f50>]"
            ]
          },
          "metadata": {},
          "execution_count": 44
        },
        {
          "output_type": "display_data",
          "data": {
            "text/plain": [
              "<Figure size 432x288 with 1 Axes>"
            ],
            "image/png": "[encoded data removed]"
          },
          "metadata": {
            "needs_background": "light"
          }
        }
      ]
    },
    {
      "cell_type": "markdown",
      "source": [
        "###Preprocessing"
      ],
      "metadata": {
        "id": "bAQgw59bw2_y"
      }
    },
    {
      "cell_type": "code",
      "source": [
        "from sklearn.preprocessing import MinMaxScaler"
      ],
      "metadata": {
        "id": "8KCxznfwweZx"
      },
      "execution_count": null,
      "outputs": []
    },
    {
      "cell_type": "code",
      "source": [
        "scaler = MinMaxScaler(feature_range=(0,1))\n",
        "data = scaler.fit_transform(np.array(close).reshape(-1,1))"
      ],
      "metadata": {
        "id": "yL2DDVo_xXLE"
      },
      "execution_count": null,
      "outputs": []
    },
    {
      "cell_type": "code",
      "source": [
        "data"
      ],
      "metadata": {
        "colab": {
          "base_uri": "https://localhost:8080/"
        },
        "id": "1v_e7NKgx2Ih",
        "outputId": "5eebfae1-b6c0-4405-82f4-707dd29cb553"
      },
      "execution_count": null,
      "outputs": [
        {
          "output_type": "execute_result",
          "data": {
            "text/plain": [
              "array([[0.        ],\n",
              "       [0.00117875],\n",
              "       [0.00899341],\n",
              "       ...,\n",
              "       [0.75966339],\n",
              "       [0.79159031],\n",
              "       [0.76583582]])"
            ]
          },
          "metadata": {},
          "execution_count": 47
        }
      ]
    },
    {
      "cell_type": "code",
      "source": [
        "plt.plot(data)"
      ],
      "metadata": {
        "colab": {
          "base_uri": "https://localhost:8080/",
          "height": 282
        },
        "id": "p84O5PKax5Wg",
        "outputId": "7fccd678-50cb-43f8-8140-cf2273a7baff"
      },
      "execution_count": null,
      "outputs": [
        {
          "output_type": "execute_result",
          "data": {
            "text/plain": [
              "[<matplotlib.lines.Line2D at 0x7f600b696890>]"
            ]
          },
          "metadata": {},
          "execution_count": 48
        },
        {
          "output_type": "display_data",
          "data": {
            "text/plain": [
              "<Figure size 432x288 with 1 Axes>"
            ],
            "image/png": "[encoded data removed]"
          },
          "metadata": {
            "needs_background": "light"
          }
        }
      ]
    },
    {
      "cell_type": "code",
      "source": [
        "train_size = int(len(data)*0.75)\n",
        "test_size = len(data) - train_size"
      ],
      "metadata": {
        "id": "XQGmGsQ1yHmR"
      },
      "execution_count": null,
      "outputs": []
    },
    {
      "cell_type": "code",
      "source": [
        "print('Full Data Size: ', len(data))\n",
        "print('Train Size: ', train_size)\n",
        "print('Test Size: ', test_size)"
      ],
      "metadata": {
        "colab": {
          "base_uri": "https://localhost:8080/"
        },
        "id": "oT3KFckUyTB0",
        "outputId": "93c50df1-07a5-4aa1-c021-1ffbd4c8a294"
      },
      "execution_count": null,
      "outputs": [
        {
          "output_type": "stream",
          "name": "stdout",
          "text": [
            "Full Data Size:  1331\n",
            "Train Size:  998\n",
            "Test Size:  333\n"
          ]
        }
      ]
    },
    {
      "cell_type": "markdown",
      "source": [
        "split train,test data"
      ],
      "metadata": {
        "id": "HDaONh2HzZaz"
      }
    },
    {
      "cell_type": "code",
      "source": [
        "train_data, test_data = data[:train_size,:], data[train_size:len(data),:] "
      ],
      "metadata": {
        "id": "N0o4RoJZyngJ"
      },
      "execution_count": null,
      "outputs": []
    },
    {
      "cell_type": "code",
      "source": [
        "print('Full Data Size: ', len(data))\n",
        "print('Train Size: ', len(train_data))\n",
        "print('Test Size: ', len(test_data))"
      ],
      "metadata": {
        "colab": {
          "base_uri": "https://localhost:8080/"
        },
        "id": "NaFTGguJzN9x",
        "outputId": "120cc32d-6c05-4c8b-ab3e-6adbd1f15281"
      },
      "execution_count": null,
      "outputs": [
        {
          "output_type": "stream",
          "name": "stdout",
          "text": [
            "Full Data Size:  1331\n",
            "Train Size:  998\n",
            "Test Size:  333\n"
          ]
        }
      ]
    },
    {
      "cell_type": "code",
      "source": [
        "test_data[232:].shape"
      ],
      "metadata": {
        "colab": {
          "base_uri": "https://localhost:8080/"
        },
        "id": "s8xS_bPE--rX",
        "outputId": "565c4283-c0e1-4400-cbad-96d870dd950e"
      },
      "execution_count": null,
      "outputs": [
        {
          "output_type": "execute_result",
          "data": {
            "text/plain": [
              "(101, 1)"
            ]
          },
          "metadata": {},
          "execution_count": 53
        }
      ]
    },
    {
      "cell_type": "code",
      "source": [
        "def create_dataset(dataset, time_step=1):\n",
        "  datax,datay=[],[]\n",
        "  for i in range(len(dataset)-time_step-1):\n",
        "    a=dataset[i:(i+time_step),0]\n",
        "    datax.append(a)\n",
        "    datay.append(dataset[i+time_step,0])\n",
        "  return np.array(datax),np.array(datay)"
      ],
      "metadata": {
        "id": "h5B8FcXLzW9S"
      },
      "execution_count": null,
      "outputs": []
    },
    {
      "cell_type": "code",
      "source": [
        "time_step=100\n",
        "x_train,y_train=create_dataset(train_data,time_step)\n",
        "x_test,y_test=create_dataset(test_data,time_step)\n"
      ],
      "metadata": {
        "id": "vv7mHaDIABc1"
      },
      "execution_count": null,
      "outputs": []
    },
    {
      "cell_type": "code",
      "source": [
        "x_train"
      ],
      "metadata": {
        "colab": {
          "base_uri": "https://localhost:8080/"
        },
        "id": "69aAu_o2AJ40",
        "outputId": "90a940ca-ca1c-4f42-bf94-a9375dff0a3d"
      },
      "execution_count": null,
      "outputs": [
        {
          "output_type": "execute_result",
          "data": {
            "text/plain": [
              "array([[0.        , 0.00117875, 0.00899341, ..., 0.07316623, 0.07612485,\n",
              "        0.08050066],\n",
              "       [0.00117875, 0.00899341, 0.01421212, ..., 0.07612485, 0.08050066,\n",
              "        0.08130665],\n",
              "       [0.00899341, 0.01421212, 0.01452444, ..., 0.08050066, 0.08130665,\n",
              "        0.0816156 ],\n",
              "       ...,\n",
              "       [0.74985731, 0.75736632, 0.77291504, ..., 0.78936711, 0.78845704,\n",
              "        0.79347089],\n",
              "       [0.75736632, 0.77291504, 0.75448499, ..., 0.78845704, 0.79347089,\n",
              "        0.80708861],\n",
              "       [0.77291504, 0.75448499, 0.76563437, ..., 0.79347089, 0.80708861,\n",
              "        0.80982564]])"
            ]
          },
          "metadata": {},
          "execution_count": 56
        }
      ]
    },
    {
      "cell_type": "code",
      "source": [
        "print('x_Train: ', len(x_train))\n",
        "print('y_Train: ', len(y_train))"
      ],
      "metadata": {
        "colab": {
          "base_uri": "https://localhost:8080/"
        },
        "id": "lLCWpc9LALk3",
        "outputId": "7bf6b61e-11b1-4f23-a09e-4cf029dcba94"
      },
      "execution_count": null,
      "outputs": [
        {
          "output_type": "stream",
          "name": "stdout",
          "text": [
            "x_Train:  897\n",
            "y_Train:  897\n"
          ]
        }
      ]
    },
    {
      "cell_type": "markdown",
      "source": [
        "reshape data"
      ],
      "metadata": {
        "id": "STDDFCMtBWlQ"
      }
    },
    {
      "cell_type": "code",
      "source": [
        "x_train=x_train.reshape(x_train.shape[0],x_train.shape[1],1)\n",
        "x_test=x_test.reshape(x_test.shape[0],x_test.shape[1],1)"
      ],
      "metadata": {
        "id": "dd-1_c_EA96q"
      },
      "execution_count": null,
      "outputs": []
    },
    {
      "cell_type": "markdown",
      "source": [
        "###Build Model for prediction"
      ],
      "metadata": {
        "id": "ydpyOz_sBovJ"
      }
    },
    {
      "cell_type": "code",
      "source": [
        "from tensorflow import keras\n",
        "from keras.models import Sequential\n",
        "from keras.layers import Dense, LSTM, Input"
      ],
      "metadata": {
        "id": "Qn39uQcHBDuf"
      },
      "execution_count": null,
      "outputs": []
    },
    {
      "cell_type": "code",
      "source": [
        "model = Sequential()\n",
        "model.add(Input(shape = (100,1)))\n",
        "model.add(LSTM(50,activation='relu',return_sequences=True))\n",
        "\n",
        "model.add(LSTM(50,activation='relu', return_sequences=True))\n",
        "model.add(LSTM(50,activation='relu'))\n",
        "model.add(Dense(1))\n",
        "model.compile(loss='mean_squared_error',optimizer='adam')"
      ],
      "metadata": {
        "id": "Yp0vTDS1ByrN"
      },
      "execution_count": null,
      "outputs": []
    },
    {
      "cell_type": "code",
      "source": [
        "model.summary()"
      ],
      "metadata": {
        "colab": {
          "base_uri": "https://localhost:8080/"
        },
        "id": "i-O9QAyiEKVn",
        "outputId": "8f35b434-1a16-48ba-b9ef-8d9959bee719"
      },
      "execution_count": null,
      "outputs": [
        {
          "output_type": "stream",
          "name": "stdout",
          "text": [
            "Model: \"sequential_1\"\n",
            "_________________________________________________________________\n",
            " Layer (type)                Output Shape              Param #   \n",
            "=================================================================\n",
            " lstm_3 (LSTM)               (None, 100, 50)           10400     \n",
            "                                                                 \n",
            " lstm_4 (LSTM)               (None, 100, 50)           20200     \n",
            "                                                                 \n",
            " lstm_5 (LSTM)               (None, 50)                20200     \n",
            "                                                                 \n",
            " dense_1 (Dense)             (None, 1)                 51        \n",
            "                                                                 \n",
            "=================================================================\n",
            "Total params: 50,851\n",
            "Trainable params: 50,851\n",
            "Non-trainable params: 0\n",
            "_________________________________________________________________\n"
          ]
        }
      ]
    },
    {
      "cell_type": "code",
      "source": [
        "history = model.fit(x_train,y_train,validation_data=(x_test,y_test),epochs=100,batch_size=64,verbose=1)"
      ],
      "metadata": {
        "colab": {
          "base_uri": "https://localhost:8080/"
        },
        "id": "yxhj8Jn7EPVm",
        "outputId": "0647ec4d-3d6b-4710-e16d-066c16221d16"
      },
      "execution_count": null,
      "outputs": [
        {
          "output_type": "stream",
          "name": "stdout",
          "text": [
            "Epoch 1/100\n",
            "15/15 [==============================] - 7s 501ms/step - loss: 0.0494 - val_loss: 0.0161\n",
            "Epoch 2/100\n",
            "15/15 [==============================] - 5s 329ms/step - loss: 0.0124 - val_loss: 0.0038\n",
            "Epoch 3/100\n",
            "15/15 [==============================] - 4s 238ms/step - loss: 0.0054 - val_loss: 0.0089\n",
            "Epoch 4/100\n",
            "15/15 [==============================] - 3s 180ms/step - loss: 0.0028 - val_loss: 0.0121\n",
            "Epoch 5/100\n",
            "15/15 [==============================] - 3s 178ms/step - loss: 0.0019 - val_loss: 0.0085\n",
            "Epoch 6/100\n",
            "15/15 [==============================] - 3s 178ms/step - loss: 0.0017 - val_loss: 0.0072\n",
            "Epoch 7/100\n",
            "15/15 [==============================] - 3s 177ms/step - loss: 0.0016 - val_loss: 0.0068\n",
            "Epoch 8/100\n",
            "15/15 [==============================] - 3s 181ms/step - loss: 0.0015 - val_loss: 0.0045\n",
            "Epoch 9/100\n",
            "15/15 [==============================] - 3s 180ms/step - loss: 0.0014 - val_loss: 0.0061\n",
            "Epoch 10/100\n",
            "15/15 [==============================] - 3s 179ms/step - loss: 0.0014 - val_loss: 0.0032\n",
            "Epoch 11/100\n",
            "15/15 [==============================] - 3s 177ms/step - loss: 0.0014 - val_loss: 0.0029\n",
            "Epoch 12/100\n",
            "15/15 [==============================] - 3s 181ms/step - loss: 0.0014 - val_loss: 0.0029\n",
            "Epoch 13/100\n",
            "15/15 [==============================] - 4s 274ms/step - loss: 0.0011 - val_loss: 0.0085\n",
            "Epoch 14/100\n",
            "15/15 [==============================] - 3s 218ms/step - loss: 0.0016 - val_loss: 0.0043\n",
            "Epoch 15/100\n",
            "15/15 [==============================] - 3s 181ms/step - loss: 0.0012 - val_loss: 0.0028\n",
            "Epoch 16/100\n",
            "15/15 [==============================] - 3s 178ms/step - loss: 0.0011 - val_loss: 0.0057\n",
            "Epoch 17/100\n",
            "15/15 [==============================] - 3s 180ms/step - loss: 0.0015 - val_loss: 0.0036\n",
            "Epoch 18/100\n",
            "15/15 [==============================] - 3s 178ms/step - loss: 0.0012 - val_loss: 0.0028\n",
            "Epoch 19/100\n",
            "15/15 [==============================] - 3s 184ms/step - loss: 0.0011 - val_loss: 0.0046\n",
            "Epoch 20/100\n",
            "15/15 [==============================] - 3s 181ms/step - loss: 0.0012 - val_loss: 0.0029\n",
            "Epoch 21/100\n",
            "15/15 [==============================] - 3s 178ms/step - loss: 0.0012 - val_loss: 0.0028\n",
            "Epoch 22/100\n",
            "15/15 [==============================] - 3s 178ms/step - loss: 0.0011 - val_loss: 0.0030\n",
            "Epoch 23/100\n",
            "15/15 [==============================] - 3s 180ms/step - loss: 0.0012 - val_loss: 0.0107\n",
            "Epoch 24/100\n",
            "15/15 [==============================] - 3s 179ms/step - loss: 0.0020 - val_loss: 0.0029\n",
            "Epoch 25/100\n",
            "15/15 [==============================] - 3s 177ms/step - loss: 0.0012 - val_loss: 0.0032\n",
            "Epoch 26/100\n",
            "15/15 [==============================] - 3s 181ms/step - loss: 0.0020 - val_loss: 0.0031\n",
            "Epoch 27/100\n",
            "15/15 [==============================] - 3s 180ms/step - loss: 0.0012 - val_loss: 0.0035\n",
            "Epoch 28/100\n",
            "15/15 [==============================] - 3s 177ms/step - loss: 0.0011 - val_loss: 0.0026\n",
            "Epoch 29/100\n",
            "15/15 [==============================] - 3s 173ms/step - loss: 0.0011 - val_loss: 0.0026\n",
            "Epoch 30/100\n",
            "15/15 [==============================] - 3s 180ms/step - loss: 0.0010 - val_loss: 0.0026\n",
            "Epoch 31/100\n",
            "15/15 [==============================] - 3s 181ms/step - loss: 0.0010 - val_loss: 0.0027\n",
            "Epoch 32/100\n",
            "15/15 [==============================] - 3s 178ms/step - loss: 0.0010 - val_loss: 0.0025\n",
            "Epoch 33/100\n",
            "15/15 [==============================] - 3s 178ms/step - loss: 0.0010 - val_loss: 0.0061\n",
            "Epoch 34/100\n",
            "15/15 [==============================] - 3s 182ms/step - loss: 0.0012 - val_loss: 0.0035\n",
            "Epoch 35/100\n",
            "15/15 [==============================] - 3s 229ms/step - loss: 0.0020 - val_loss: 0.0077\n",
            "Epoch 36/100\n",
            "15/15 [==============================] - 3s 178ms/step - loss: 0.0016 - val_loss: 0.0076\n",
            "Epoch 37/100\n",
            "15/15 [==============================] - 3s 176ms/step - loss: 0.0012 - val_loss: 0.0026\n",
            "Epoch 38/100\n",
            "15/15 [==============================] - 3s 181ms/step - loss: 0.0010 - val_loss: 0.0024\n",
            "Epoch 39/100\n",
            "15/15 [==============================] - 3s 176ms/step - loss: 9.8755e-04 - val_loss: 0.0023\n",
            "Epoch 40/100\n",
            "15/15 [==============================] - 3s 177ms/step - loss: 9.9171e-04 - val_loss: 0.0031\n",
            "Epoch 41/100\n",
            "15/15 [==============================] - 3s 182ms/step - loss: 9.3179e-04 - val_loss: 0.0024\n",
            "Epoch 42/100\n",
            "15/15 [==============================] - 3s 184ms/step - loss: 9.6713e-04 - val_loss: 0.0024\n",
            "Epoch 43/100\n",
            "15/15 [==============================] - 3s 178ms/step - loss: 9.3032e-04 - val_loss: 0.0027\n",
            "Epoch 44/100\n",
            "15/15 [==============================] - 3s 184ms/step - loss: 9.2928e-04 - val_loss: 0.0040\n",
            "Epoch 45/100\n",
            "15/15 [==============================] - 3s 183ms/step - loss: 9.8940e-04 - val_loss: 0.0029\n",
            "Epoch 46/100\n",
            "15/15 [==============================] - 3s 179ms/step - loss: 9.0946e-04 - val_loss: 0.0022\n",
            "Epoch 47/100\n",
            "15/15 [==============================] - 3s 181ms/step - loss: 9.3291e-04 - val_loss: 0.0040\n",
            "Epoch 48/100\n",
            "15/15 [==============================] - 3s 180ms/step - loss: 9.7881e-04 - val_loss: 0.0035\n",
            "Epoch 49/100\n",
            "15/15 [==============================] - 3s 180ms/step - loss: 8.8951e-04 - val_loss: 0.0023\n",
            "Epoch 50/100\n",
            "15/15 [==============================] - 3s 174ms/step - loss: 8.8515e-04 - val_loss: 0.0037\n",
            "Epoch 51/100\n",
            "15/15 [==============================] - 3s 177ms/step - loss: 8.4949e-04 - val_loss: 0.0025\n",
            "Epoch 52/100\n",
            "15/15 [==============================] - 3s 179ms/step - loss: 8.3915e-04 - val_loss: 0.0021\n",
            "Epoch 53/100\n",
            "15/15 [==============================] - 3s 178ms/step - loss: 9.7094e-04 - val_loss: 0.0034\n",
            "Epoch 54/100\n",
            "15/15 [==============================] - 3s 175ms/step - loss: 8.3331e-04 - val_loss: 0.0026\n",
            "Epoch 55/100\n",
            "15/15 [==============================] - 3s 177ms/step - loss: 8.0103e-04 - val_loss: 0.0021\n",
            "Epoch 56/100\n",
            "15/15 [==============================] - 3s 179ms/step - loss: 8.3159e-04 - val_loss: 0.0034\n",
            "Epoch 57/100\n",
            "15/15 [==============================] - 3s 181ms/step - loss: 8.6256e-04 - val_loss: 0.0020\n",
            "Epoch 58/100\n",
            "15/15 [==============================] - 3s 175ms/step - loss: 7.7093e-04 - val_loss: 0.0019\n",
            "Epoch 59/100\n",
            "15/15 [==============================] - 3s 179ms/step - loss: 7.5317e-04 - val_loss: 0.0020\n",
            "Epoch 60/100\n",
            "15/15 [==============================] - 3s 179ms/step - loss: 7.6281e-04 - val_loss: 0.0025\n",
            "Epoch 61/100\n",
            "15/15 [==============================] - 3s 180ms/step - loss: 7.7025e-04 - val_loss: 0.0018\n",
            "Epoch 62/100\n",
            "15/15 [==============================] - 3s 177ms/step - loss: 7.1936e-04 - val_loss: 0.0019\n",
            "Epoch 63/100\n",
            "15/15 [==============================] - 3s 184ms/step - loss: 0.0010 - val_loss: 0.0030\n",
            "Epoch 64/100\n",
            "15/15 [==============================] - 3s 179ms/step - loss: 8.1447e-04 - val_loss: 0.0018\n",
            "Epoch 65/100\n",
            "15/15 [==============================] - 3s 182ms/step - loss: 0.0010 - val_loss: 0.0023\n",
            "Epoch 66/100\n",
            "15/15 [==============================] - 3s 181ms/step - loss: 8.7214e-04 - val_loss: 0.0033\n",
            "Epoch 67/100\n",
            "15/15 [==============================] - 3s 182ms/step - loss: 6.5990e-04 - val_loss: 0.0017\n",
            "Epoch 68/100\n",
            "15/15 [==============================] - 3s 179ms/step - loss: 7.4164e-04 - val_loss: 0.0021\n",
            "Epoch 69/100\n",
            "15/15 [==============================] - 3s 177ms/step - loss: 7.5064e-04 - val_loss: 0.0078\n",
            "Epoch 70/100\n",
            "15/15 [==============================] - 3s 179ms/step - loss: 0.0013 - val_loss: 0.0020\n",
            "Epoch 71/100\n",
            "15/15 [==============================] - 3s 183ms/step - loss: 7.9077e-04 - val_loss: 0.0026\n",
            "Epoch 72/100\n",
            "15/15 [==============================] - 3s 180ms/step - loss: 6.9619e-04 - val_loss: 0.0038\n",
            "Epoch 73/100\n",
            "15/15 [==============================] - 3s 179ms/step - loss: 6.7292e-04 - val_loss: 0.0019\n",
            "Epoch 74/100\n",
            "15/15 [==============================] - 3s 178ms/step - loss: 6.0015e-04 - val_loss: 0.0018\n",
            "Epoch 75/100\n",
            "15/15 [==============================] - 3s 237ms/step - loss: 5.9329e-04 - val_loss: 0.0052\n",
            "Epoch 76/100\n",
            "15/15 [==============================] - 3s 179ms/step - loss: 0.0014 - val_loss: 0.0024\n",
            "Epoch 77/100\n",
            "15/15 [==============================] - 3s 179ms/step - loss: 9.5005e-04 - val_loss: 0.0019\n",
            "Epoch 78/100\n",
            "15/15 [==============================] - 3s 182ms/step - loss: 6.5944e-04 - val_loss: 0.0020\n",
            "Epoch 79/100\n",
            "15/15 [==============================] - 3s 179ms/step - loss: 6.1116e-04 - val_loss: 0.0018\n",
            "Epoch 80/100\n",
            "15/15 [==============================] - 3s 179ms/step - loss: 6.8236e-04 - val_loss: 0.0033\n",
            "Epoch 81/100\n",
            "15/15 [==============================] - 3s 179ms/step - loss: 5.9675e-04 - val_loss: 0.0041\n",
            "Epoch 82/100\n",
            "15/15 [==============================] - 3s 179ms/step - loss: 7.8684e-04 - val_loss: 0.0033\n",
            "Epoch 83/100\n",
            "15/15 [==============================] - 3s 179ms/step - loss: 6.5880e-04 - val_loss: 0.0016\n",
            "Epoch 84/100\n",
            "15/15 [==============================] - 3s 178ms/step - loss: 6.6606e-04 - val_loss: 0.0035\n",
            "Epoch 85/100\n",
            "15/15 [==============================] - 3s 182ms/step - loss: 7.4329e-04 - val_loss: 0.0016\n",
            "Epoch 86/100\n",
            "15/15 [==============================] - 3s 182ms/step - loss: 6.1441e-04 - val_loss: 0.0019\n",
            "Epoch 87/100\n",
            "15/15 [==============================] - 3s 179ms/step - loss: 6.4813e-04 - val_loss: 0.0026\n",
            "Epoch 88/100\n",
            "15/15 [==============================] - 3s 179ms/step - loss: 5.6141e-04 - val_loss: 0.0030\n",
            "Epoch 89/100\n",
            "15/15 [==============================] - 3s 182ms/step - loss: 5.5334e-04 - val_loss: 0.0015\n",
            "Epoch 90/100\n",
            "15/15 [==============================] - 3s 182ms/step - loss: 5.3968e-04 - val_loss: 0.0022\n",
            "Epoch 91/100\n",
            "15/15 [==============================] - 3s 179ms/step - loss: 5.7504e-04 - val_loss: 0.0022\n",
            "Epoch 92/100\n",
            "15/15 [==============================] - 3s 180ms/step - loss: 5.7801e-04 - val_loss: 0.0022\n",
            "Epoch 93/100\n",
            "15/15 [==============================] - 3s 203ms/step - loss: 5.5185e-04 - val_loss: 0.0024\n",
            "Epoch 94/100\n",
            "15/15 [==============================] - 5s 312ms/step - loss: 6.1113e-04 - val_loss: 0.0032\n",
            "Epoch 95/100\n",
            "15/15 [==============================] - 6s 387ms/step - loss: 5.4676e-04 - val_loss: 0.0028\n",
            "Epoch 96/100\n",
            "15/15 [==============================] - 3s 179ms/step - loss: 5.3068e-04 - val_loss: 0.0016\n",
            "Epoch 97/100\n",
            "15/15 [==============================] - 3s 178ms/step - loss: 5.2106e-04 - val_loss: 0.0069\n",
            "Epoch 98/100\n",
            "15/15 [==============================] - 3s 183ms/step - loss: 9.8719e-04 - val_loss: 0.0021\n",
            "Epoch 99/100\n",
            "15/15 [==============================] - 3s 182ms/step - loss: 6.0680e-04 - val_loss: 0.0018\n",
            "Epoch 100/100\n",
            "15/15 [==============================] - 3s 177ms/step - loss: 5.4309e-04 - val_loss: 0.0026\n"
          ]
        }
      ]
    },
    {
      "cell_type": "code",
      "source": [
        "plt.plot(history.history['loss'])\n",
        "plt.plot(history.history['val_loss'])\n",
        "plt.title('model loss')\n",
        "plt.ylabel('loss')\n",
        "plt.xlabel('epoch')\n",
        "plt.legend(['train', 'test'], loc='upper left')\n",
        "plt.show()"
      ],
      "metadata": {
        "colab": {
          "base_uri": "https://localhost:8080/",
          "height": 295
        },
        "id": "AsiiTlIK25ay",
        "outputId": "12bb50c9-642d-4b96-9fe7-362725e9c162"
      },
      "execution_count": null,
      "outputs": [
        {
          "output_type": "display_data",
          "data": {
            "text/plain": [
              "<Figure size 432x288 with 1 Axes>"
            ],
            "image/png": "[encoded data removed]"
          },
          "metadata": {
            "needs_background": "light"
          }
        }
      ]
    },
    {
      "cell_type": "markdown",
      "source": [
        "###Evaluate Metrics"
      ],
      "metadata": {
        "id": "_6SFpvFTOHOg"
      }
    },
    {
      "cell_type": "code",
      "source": [
        "train_predict=model.predict(x_train)\n",
        "test_predict=model.predict(x_test)"
      ],
      "metadata": {
        "id": "92uPxnpLEZAh"
      },
      "execution_count": null,
      "outputs": []
    },
    {
      "cell_type": "code",
      "source": [
        "train_predict=scaler.inverse_transform(train_predict)\n",
        "test_predict=scaler.inverse_transform(test_predict)"
      ],
      "metadata": {
        "id": "4xn3Pgr9MleL"
      },
      "execution_count": null,
      "outputs": []
    },
    {
      "cell_type": "code",
      "source": [
        "import math\n",
        "from sklearn.metrics import mean_squared_error\n",
        "math.sqrt(mean_squared_error(y_train,train_predict))"
      ],
      "metadata": {
        "colab": {
          "base_uri": "https://localhost:8080/"
        },
        "id": "i70QIiEfMqUb",
        "outputId": "aceaa763-7540-4f24-81a1-fb62679fb6de"
      },
      "execution_count": null,
      "outputs": [
        {
          "output_type": "execute_result",
          "data": {
            "text/plain": [
              "1915.7721693785982"
            ]
          },
          "metadata": {},
          "execution_count": 66
        }
      ]
    },
    {
      "cell_type": "code",
      "source": [
        "#split train predict for plot\n",
        "look_back=100\n",
        "trainpredictplot=np.empty_like(data)\n",
        "trainpredictplot[:, :]=np.nan\n",
        "trainpredictplot[look_back:len(train_predict)+look_back,:]=train_predict\n",
        "#shif test predict for plot\n",
        "testpredictplot=np.empty_like(data)\n",
        "testpredictplot[:, :]=np.nan\n",
        "testpredictplot[len(train_predict)+(look_back*2)+1:len(data)-1,:]=test_predict\n",
        "plt.plot(scaler.inverse_transform(data))\n",
        "plt.plot(trainpredictplot)\n",
        "plt.plot(testpredictplot)\n",
        "plt.show()\n"
      ],
      "metadata": {
        "colab": {
          "base_uri": "https://localhost:8080/",
          "height": 265
        },
        "id": "nh-PIs6wMwXK",
        "outputId": "3cd2ca30-76bf-4380-92e1-ee626faeaf4e"
      },
      "execution_count": null,
      "outputs": [
        {
          "output_type": "display_data",
          "data": {
            "text/plain": [
              "<Figure size 432x288 with 1 Axes>"
            ],
            "image/png": "[encoded data removed]"
          },
          "metadata": {
            "needs_background": "light"
          }
        }
      ]
    },
    {
      "cell_type": "markdown",
      "source": [
        "###Save Model"
      ],
      "metadata": {
        "id": "3vh3NCQ6099q"
      }
    },
    {
      "cell_type": "code",
      "source": [
        "model.save('stock_market_prediction.h5')"
      ],
      "metadata": {
        "id": "C9xbuXk9M3_B"
      },
      "execution_count": null,
      "outputs": []
    },
    {
      "cell_type": "markdown",
      "source": [
        "###Test"
      ],
      "metadata": {
        "id": "S3YXJGYs6Tr_"
      }
    },
    {
      "cell_type": "code",
      "source": [
        "x_input=test_data[232:].reshape(1,-1)\n",
        "x_input.shape"
      ],
      "metadata": {
        "id": "CFWgarW71JrB",
        "colab": {
          "base_uri": "https://localhost:8080/"
        },
        "outputId": "370b65f5-3871-40fe-ea04-8979a24ffe48"
      },
      "execution_count": null,
      "outputs": [
        {
          "output_type": "execute_result",
          "data": {
            "text/plain": [
              "(1, 101)"
            ]
          },
          "metadata": {},
          "execution_count": 69
        }
      ]
    },
    {
      "cell_type": "code",
      "source": [
        "temp_input=list(x_input)\n",
        "temp_input=temp_input[0].tolist()\n",
        "len(temp_input)"
      ],
      "metadata": {
        "colab": {
          "base_uri": "https://localhost:8080/"
        },
        "id": "LgFBiexn6eJo",
        "outputId": "82fed76f-c597-462e-d0ae-4b0960adf5dd"
      },
      "execution_count": null,
      "outputs": [
        {
          "output_type": "execute_result",
          "data": {
            "text/plain": [
              "101"
            ]
          },
          "metadata": {},
          "execution_count": 70
        }
      ]
    },
    {
      "cell_type": "code",
      "source": [
        "from numpy import array\n",
        "lst_output=[]\n",
        "n_steps= 100\n",
        "for day in range(30):\n",
        "  x_input=np.array(temp_input[1:])\n",
        "  print(\"{} day input {}\".format(day,x_input))\n",
        "  x_input=x_input.reshape(1,-1)\n",
        "  x_input = x_input.reshape((1, n_steps, 1))\n",
        "  yhat = model.predict(x_input, verbose=0)\n",
        "  print(\"{} day output {}\".format(day,yhat))\n",
        "  temp_input.extend(yhat[0].tolist())\n",
        "  temp_input=temp_input[1:]\n",
        "  lst_output.extend(yhat.tolist())"
      ],
      "metadata": {
        "colab": {
          "base_uri": "https://localhost:8080/"
        },
        "id": "ZwBfXruK6skC",
        "outputId": "07229611-d635-4316-8f41-ad1406147f7c"
      },
      "execution_count": null,
      "outputs": [
        {
          "output_type": "stream",
          "name": "stdout",
          "text": [
            "0 day input [0.94665758 0.94916619 0.9492904  0.92381811 0.94296351 0.92466104\n",
            " 0.90338648 0.90125068 0.88527545 0.89789579 0.93010811 0.93006441\n",
            " 0.91671872 0.90356111 0.88579936 0.88260229 0.91096944 0.88112125\n",
            " 0.88882178 0.86908533 0.89150502 0.89566922 0.89588083 0.88648437\n",
            " 0.89314381 0.88333773 0.87959996 0.86665396 0.89142107 0.8720607\n",
            " 0.85080295 0.84339471 0.83869315 0.83151989 0.85755307 0.85651198\n",
            " 0.82969302 0.83589907 0.8142686  0.79668139 0.76557395 0.70496087\n",
            " 0.71772887 0.68711507 0.67963624 0.68477438 0.71392738 0.75150955\n",
            " 0.76239033 0.758488   0.67945488 0.80568489 0.80767295 0.83103296\n",
            " 0.82952847 0.81484621 0.77649499 0.78907835 0.79810193 0.80878118\n",
            " 0.78562269 0.77184714 0.75570064 0.71962969 0.76349513 0.77981963\n",
            " 0.77830505 0.76204442 0.76815979 0.7402594  0.72509693 0.6701022\n",
            " 0.6604405  0.68236654 0.73299891 0.72431443 0.69965481 0.73668626\n",
            " 0.7752222  0.80299492 0.82993817 0.83155687 0.85437617 0.84442899\n",
            " 0.84605105 0.8536004  0.88192392 0.88410342 0.86385987 0.84167188\n",
            " 0.84544991 0.87759845 0.84877463 0.81318389 0.80665875 0.7843331\n",
            " 0.76191004 0.75966339 0.79159031 0.76583582]\n",
            "0 day output [[0.7464448]]\n",
            "1 day input [0.94916619 0.9492904  0.92381811 0.94296351 0.92466104 0.90338648\n",
            " 0.90125068 0.88527545 0.89789579 0.93010811 0.93006441 0.91671872\n",
            " 0.90356111 0.88579936 0.88260229 0.91096944 0.88112125 0.88882178\n",
            " 0.86908533 0.89150502 0.89566922 0.89588083 0.88648437 0.89314381\n",
            " 0.88333773 0.87959996 0.86665396 0.89142107 0.8720607  0.85080295\n",
            " 0.84339471 0.83869315 0.83151989 0.85755307 0.85651198 0.82969302\n",
            " 0.83589907 0.8142686  0.79668139 0.76557395 0.70496087 0.71772887\n",
            " 0.68711507 0.67963624 0.68477438 0.71392738 0.75150955 0.76239033\n",
            " 0.758488   0.67945488 0.80568489 0.80767295 0.83103296 0.82952847\n",
            " 0.81484621 0.77649499 0.78907835 0.79810193 0.80878118 0.78562269\n",
            " 0.77184714 0.75570064 0.71962969 0.76349513 0.77981963 0.77830505\n",
            " 0.76204442 0.76815979 0.7402594  0.72509693 0.6701022  0.6604405\n",
            " 0.68236654 0.73299891 0.72431443 0.69965481 0.73668626 0.7752222\n",
            " 0.80299492 0.82993817 0.83155687 0.85437617 0.84442899 0.84605105\n",
            " 0.8536004  0.88192392 0.88410342 0.86385987 0.84167188 0.84544991\n",
            " 0.87759845 0.84877463 0.81318389 0.80665875 0.7843331  0.76191004\n",
            " 0.75966339 0.79159031 0.76583582 0.74644482]\n",
            "1 day output [[0.74361753]]\n",
            "2 day input [0.9492904  0.92381811 0.94296351 0.92466104 0.90338648 0.90125068\n",
            " 0.88527545 0.89789579 0.93010811 0.93006441 0.91671872 0.90356111\n",
            " 0.88579936 0.88260229 0.91096944 0.88112125 0.88882178 0.86908533\n",
            " 0.89150502 0.89566922 0.89588083 0.88648437 0.89314381 0.88333773\n",
            " 0.87959996 0.86665396 0.89142107 0.8720607  0.85080295 0.84339471\n",
            " 0.83869315 0.83151989 0.85755307 0.85651198 0.82969302 0.83589907\n",
            " 0.8142686  0.79668139 0.76557395 0.70496087 0.71772887 0.68711507\n",
            " 0.67963624 0.68477438 0.71392738 0.75150955 0.76239033 0.758488\n",
            " 0.67945488 0.80568489 0.80767295 0.83103296 0.82952847 0.81484621\n",
            " 0.77649499 0.78907835 0.79810193 0.80878118 0.78562269 0.77184714\n",
            " 0.75570064 0.71962969 0.76349513 0.77981963 0.77830505 0.76204442\n",
            " 0.76815979 0.7402594  0.72509693 0.6701022  0.6604405  0.68236654\n",
            " 0.73299891 0.72431443 0.69965481 0.73668626 0.7752222  0.80299492\n",
            " 0.82993817 0.83155687 0.85437617 0.84442899 0.84605105 0.8536004\n",
            " 0.88192392 0.88410342 0.86385987 0.84167188 0.84544991 0.87759845\n",
            " 0.84877463 0.81318389 0.80665875 0.7843331  0.76191004 0.75966339\n",
            " 0.79159031 0.76583582 0.74644482 0.74361753]\n",
            "2 day output [[0.74199134]]\n",
            "3 day input [0.92381811 0.94296351 0.92466104 0.90338648 0.90125068 0.88527545\n",
            " 0.89789579 0.93010811 0.93006441 0.91671872 0.90356111 0.88579936\n",
            " 0.88260229 0.91096944 0.88112125 0.88882178 0.86908533 0.89150502\n",
            " 0.89566922 0.89588083 0.88648437 0.89314381 0.88333773 0.87959996\n",
            " 0.86665396 0.89142107 0.8720607  0.85080295 0.84339471 0.83869315\n",
            " 0.83151989 0.85755307 0.85651198 0.82969302 0.83589907 0.8142686\n",
            " 0.79668139 0.76557395 0.70496087 0.71772887 0.68711507 0.67963624\n",
            " 0.68477438 0.71392738 0.75150955 0.76239033 0.758488   0.67945488\n",
            " 0.80568489 0.80767295 0.83103296 0.82952847 0.81484621 0.77649499\n",
            " 0.78907835 0.79810193 0.80878118 0.78562269 0.77184714 0.75570064\n",
            " 0.71962969 0.76349513 0.77981963 0.77830505 0.76204442 0.76815979\n",
            " 0.7402594  0.72509693 0.6701022  0.6604405  0.68236654 0.73299891\n",
            " 0.72431443 0.69965481 0.73668626 0.7752222  0.80299492 0.82993817\n",
            " 0.83155687 0.85437617 0.84442899 0.84605105 0.8536004  0.88192392\n",
            " 0.88410342 0.86385987 0.84167188 0.84544991 0.87759845 0.84877463\n",
            " 0.81318389 0.80665875 0.7843331  0.76191004 0.75966339 0.79159031\n",
            " 0.76583582 0.74644482 0.74361753 0.74199134]\n",
            "3 day output [[0.7412729]]\n",
            "4 day input [0.94296351 0.92466104 0.90338648 0.90125068 0.88527545 0.89789579\n",
            " 0.93010811 0.93006441 0.91671872 0.90356111 0.88579936 0.88260229\n",
            " 0.91096944 0.88112125 0.88882178 0.86908533 0.89150502 0.89566922\n",
            " 0.89588083 0.88648437 0.89314381 0.88333773 0.87959996 0.86665396\n",
            " 0.89142107 0.8720607  0.85080295 0.84339471 0.83869315 0.83151989\n",
            " 0.85755307 0.85651198 0.82969302 0.83589907 0.8142686  0.79668139\n",
            " 0.76557395 0.70496087 0.71772887 0.68711507 0.67963624 0.68477438\n",
            " 0.71392738 0.75150955 0.76239033 0.758488   0.67945488 0.80568489\n",
            " 0.80767295 0.83103296 0.82952847 0.81484621 0.77649499 0.78907835\n",
            " 0.79810193 0.80878118 0.78562269 0.77184714 0.75570064 0.71962969\n",
            " 0.76349513 0.77981963 0.77830505 0.76204442 0.76815979 0.7402594\n",
            " 0.72509693 0.6701022  0.6604405  0.68236654 0.73299891 0.72431443\n",
            " 0.69965481 0.73668626 0.7752222  0.80299492 0.82993817 0.83155687\n",
            " 0.85437617 0.84442899 0.84605105 0.8536004  0.88192392 0.88410342\n",
            " 0.86385987 0.84167188 0.84544991 0.87759845 0.84877463 0.81318389\n",
            " 0.80665875 0.7843331  0.76191004 0.75966339 0.79159031 0.76583582\n",
            " 0.74644482 0.74361753 0.74199134 0.74127293]\n",
            "4 day output [[0.74137926]]\n",
            "5 day input [0.92466104 0.90338648 0.90125068 0.88527545 0.89789579 0.93010811\n",
            " 0.93006441 0.91671872 0.90356111 0.88579936 0.88260229 0.91096944\n",
            " 0.88112125 0.88882178 0.86908533 0.89150502 0.89566922 0.89588083\n",
            " 0.88648437 0.89314381 0.88333773 0.87959996 0.86665396 0.89142107\n",
            " 0.8720607  0.85080295 0.84339471 0.83869315 0.83151989 0.85755307\n",
            " 0.85651198 0.82969302 0.83589907 0.8142686  0.79668139 0.76557395\n",
            " 0.70496087 0.71772887 0.68711507 0.67963624 0.68477438 0.71392738\n",
            " 0.75150955 0.76239033 0.758488   0.67945488 0.80568489 0.80767295\n",
            " 0.83103296 0.82952847 0.81484621 0.77649499 0.78907835 0.79810193\n",
            " 0.80878118 0.78562269 0.77184714 0.75570064 0.71962969 0.76349513\n",
            " 0.77981963 0.77830505 0.76204442 0.76815979 0.7402594  0.72509693\n",
            " 0.6701022  0.6604405  0.68236654 0.73299891 0.72431443 0.69965481\n",
            " 0.73668626 0.7752222  0.80299492 0.82993817 0.83155687 0.85437617\n",
            " 0.84442899 0.84605105 0.8536004  0.88192392 0.88410342 0.86385987\n",
            " 0.84167188 0.84544991 0.87759845 0.84877463 0.81318389 0.80665875\n",
            " 0.7843331  0.76191004 0.75966339 0.79159031 0.76583582 0.74644482\n",
            " 0.74361753 0.74199134 0.74127293 0.74137926]\n",
            "5 day output [[0.7423027]]\n",
            "6 day input [0.90338648 0.90125068 0.88527545 0.89789579 0.93010811 0.93006441\n",
            " 0.91671872 0.90356111 0.88579936 0.88260229 0.91096944 0.88112125\n",
            " 0.88882178 0.86908533 0.89150502 0.89566922 0.89588083 0.88648437\n",
            " 0.89314381 0.88333773 0.87959996 0.86665396 0.89142107 0.8720607\n",
            " 0.85080295 0.84339471 0.83869315 0.83151989 0.85755307 0.85651198\n",
            " 0.82969302 0.83589907 0.8142686  0.79668139 0.76557395 0.70496087\n",
            " 0.71772887 0.68711507 0.67963624 0.68477438 0.71392738 0.75150955\n",
            " 0.76239033 0.758488   0.67945488 0.80568489 0.80767295 0.83103296\n",
            " 0.82952847 0.81484621 0.77649499 0.78907835 0.79810193 0.80878118\n",
            " 0.78562269 0.77184714 0.75570064 0.71962969 0.76349513 0.77981963\n",
            " 0.77830505 0.76204442 0.76815979 0.7402594  0.72509693 0.6701022\n",
            " 0.6604405  0.68236654 0.73299891 0.72431443 0.69965481 0.73668626\n",
            " 0.7752222  0.80299492 0.82993817 0.83155687 0.85437617 0.84442899\n",
            " 0.84605105 0.8536004  0.88192392 0.88410342 0.86385987 0.84167188\n",
            " 0.84544991 0.87759845 0.84877463 0.81318389 0.80665875 0.7843331\n",
            " 0.76191004 0.75966339 0.79159031 0.76583582 0.74644482 0.74361753\n",
            " 0.74199134 0.74127293 0.74137926 0.74230272]\n",
            "6 day output [[0.7440334]]\n",
            "7 day input [0.90125068 0.88527545 0.89789579 0.93010811 0.93006441 0.91671872\n",
            " 0.90356111 0.88579936 0.88260229 0.91096944 0.88112125 0.88882178\n",
            " 0.86908533 0.89150502 0.89566922 0.89588083 0.88648437 0.89314381\n",
            " 0.88333773 0.87959996 0.86665396 0.89142107 0.8720607  0.85080295\n",
            " 0.84339471 0.83869315 0.83151989 0.85755307 0.85651198 0.82969302\n",
            " 0.83589907 0.8142686  0.79668139 0.76557395 0.70496087 0.71772887\n",
            " 0.68711507 0.67963624 0.68477438 0.71392738 0.75150955 0.76239033\n",
            " 0.758488   0.67945488 0.80568489 0.80767295 0.83103296 0.82952847\n",
            " 0.81484621 0.77649499 0.78907835 0.79810193 0.80878118 0.78562269\n",
            " 0.77184714 0.75570064 0.71962969 0.76349513 0.77981963 0.77830505\n",
            " 0.76204442 0.76815979 0.7402594  0.72509693 0.6701022  0.6604405\n",
            " 0.68236654 0.73299891 0.72431443 0.69965481 0.73668626 0.7752222\n",
            " 0.80299492 0.82993817 0.83155687 0.85437617 0.84442899 0.84605105\n",
            " 0.8536004  0.88192392 0.88410342 0.86385987 0.84167188 0.84544991\n",
            " 0.87759845 0.84877463 0.81318389 0.80665875 0.7843331  0.76191004\n",
            " 0.75966339 0.79159031 0.76583582 0.74644482 0.74361753 0.74199134\n",
            " 0.74127293 0.74137926 0.74230272 0.7440334 ]\n",
            "7 day output [[0.746525]]\n",
            "8 day input [0.88527545 0.89789579 0.93010811 0.93006441 0.91671872 0.90356111\n",
            " 0.88579936 0.88260229 0.91096944 0.88112125 0.88882178 0.86908533\n",
            " 0.89150502 0.89566922 0.89588083 0.88648437 0.89314381 0.88333773\n",
            " 0.87959996 0.86665396 0.89142107 0.8720607  0.85080295 0.84339471\n",
            " 0.83869315 0.83151989 0.85755307 0.85651198 0.82969302 0.83589907\n",
            " 0.8142686  0.79668139 0.76557395 0.70496087 0.71772887 0.68711507\n",
            " 0.67963624 0.68477438 0.71392738 0.75150955 0.76239033 0.758488\n",
            " 0.67945488 0.80568489 0.80767295 0.83103296 0.82952847 0.81484621\n",
            " 0.77649499 0.78907835 0.79810193 0.80878118 0.78562269 0.77184714\n",
            " 0.75570064 0.71962969 0.76349513 0.77981963 0.77830505 0.76204442\n",
            " 0.76815979 0.7402594  0.72509693 0.6701022  0.6604405  0.68236654\n",
            " 0.73299891 0.72431443 0.69965481 0.73668626 0.7752222  0.80299492\n",
            " 0.82993817 0.83155687 0.85437617 0.84442899 0.84605105 0.8536004\n",
            " 0.88192392 0.88410342 0.86385987 0.84167188 0.84544991 0.87759845\n",
            " 0.84877463 0.81318389 0.80665875 0.7843331  0.76191004 0.75966339\n",
            " 0.79159031 0.76583582 0.74644482 0.74361753 0.74199134 0.74127293\n",
            " 0.74137926 0.74230272 0.7440334  0.74652499]\n",
            "8 day output [[0.74965596]]\n",
            "9 day input [0.89789579 0.93010811 0.93006441 0.91671872 0.90356111 0.88579936\n",
            " 0.88260229 0.91096944 0.88112125 0.88882178 0.86908533 0.89150502\n",
            " 0.89566922 0.89588083 0.88648437 0.89314381 0.88333773 0.87959996\n",
            " 0.86665396 0.89142107 0.8720607  0.85080295 0.84339471 0.83869315\n",
            " 0.83151989 0.85755307 0.85651198 0.82969302 0.83589907 0.8142686\n",
            " 0.79668139 0.76557395 0.70496087 0.71772887 0.68711507 0.67963624\n",
            " 0.68477438 0.71392738 0.75150955 0.76239033 0.758488   0.67945488\n",
            " 0.80568489 0.80767295 0.83103296 0.82952847 0.81484621 0.77649499\n",
            " 0.78907835 0.79810193 0.80878118 0.78562269 0.77184714 0.75570064\n",
            " 0.71962969 0.76349513 0.77981963 0.77830505 0.76204442 0.76815979\n",
            " 0.7402594  0.72509693 0.6701022  0.6604405  0.68236654 0.73299891\n",
            " 0.72431443 0.69965481 0.73668626 0.7752222  0.80299492 0.82993817\n",
            " 0.83155687 0.85437617 0.84442899 0.84605105 0.8536004  0.88192392\n",
            " 0.88410342 0.86385987 0.84167188 0.84544991 0.87759845 0.84877463\n",
            " 0.81318389 0.80665875 0.7843331  0.76191004 0.75966339 0.79159031\n",
            " 0.76583582 0.74644482 0.74361753 0.74199134 0.74127293 0.74137926\n",
            " 0.74230272 0.7440334  0.74652499 0.74965596]\n",
            "9 day output [[0.75325483]]\n",
            "10 day input [0.93010811 0.93006441 0.91671872 0.90356111 0.88579936 0.88260229\n",
            " 0.91096944 0.88112125 0.88882178 0.86908533 0.89150502 0.89566922\n",
            " 0.89588083 0.88648437 0.89314381 0.88333773 0.87959996 0.86665396\n",
            " 0.89142107 0.8720607  0.85080295 0.84339471 0.83869315 0.83151989\n",
            " 0.85755307 0.85651198 0.82969302 0.83589907 0.8142686  0.79668139\n",
            " 0.76557395 0.70496087 0.71772887 0.68711507 0.67963624 0.68477438\n",
            " 0.71392738 0.75150955 0.76239033 0.758488   0.67945488 0.80568489\n",
            " 0.80767295 0.83103296 0.82952847 0.81484621 0.77649499 0.78907835\n",
            " 0.79810193 0.80878118 0.78562269 0.77184714 0.75570064 0.71962969\n",
            " 0.76349513 0.77981963 0.77830505 0.76204442 0.76815979 0.7402594\n",
            " 0.72509693 0.6701022  0.6604405  0.68236654 0.73299891 0.72431443\n",
            " 0.69965481 0.73668626 0.7752222  0.80299492 0.82993817 0.83155687\n",
            " 0.85437617 0.84442899 0.84605105 0.8536004  0.88192392 0.88410342\n",
            " 0.86385987 0.84167188 0.84544991 0.87759845 0.84877463 0.81318389\n",
            " 0.80665875 0.7843331  0.76191004 0.75966339 0.79159031 0.76583582\n",
            " 0.74644482 0.74361753 0.74199134 0.74127293 0.74137926 0.74230272\n",
            " 0.7440334  0.74652499 0.74965596 0.75325483]\n",
            "10 day output [[0.75713056]]\n",
            "11 day input [0.93006441 0.91671872 0.90356111 0.88579936 0.88260229 0.91096944\n",
            " 0.88112125 0.88882178 0.86908533 0.89150502 0.89566922 0.89588083\n",
            " 0.88648437 0.89314381 0.88333773 0.87959996 0.86665396 0.89142107\n",
            " 0.8720607  0.85080295 0.84339471 0.83869315 0.83151989 0.85755307\n",
            " 0.85651198 0.82969302 0.83589907 0.8142686  0.79668139 0.76557395\n",
            " 0.70496087 0.71772887 0.68711507 0.67963624 0.68477438 0.71392738\n",
            " 0.75150955 0.76239033 0.758488   0.67945488 0.80568489 0.80767295\n",
            " 0.83103296 0.82952847 0.81484621 0.77649499 0.78907835 0.79810193\n",
            " 0.80878118 0.78562269 0.77184714 0.75570064 0.71962969 0.76349513\n",
            " 0.77981963 0.77830505 0.76204442 0.76815979 0.7402594  0.72509693\n",
            " 0.6701022  0.6604405  0.68236654 0.73299891 0.72431443 0.69965481\n",
            " 0.73668626 0.7752222  0.80299492 0.82993817 0.83155687 0.85437617\n",
            " 0.84442899 0.84605105 0.8536004  0.88192392 0.88410342 0.86385987\n",
            " 0.84167188 0.84544991 0.87759845 0.84877463 0.81318389 0.80665875\n",
            " 0.7843331  0.76191004 0.75966339 0.79159031 0.76583582 0.74644482\n",
            " 0.74361753 0.74199134 0.74127293 0.74137926 0.74230272 0.7440334\n",
            " 0.74652499 0.74965596 0.75325483 0.75713056]\n",
            "11 day output [[0.761093]]\n",
            "12 day input [0.91671872 0.90356111 0.88579936 0.88260229 0.91096944 0.88112125\n",
            " 0.88882178 0.86908533 0.89150502 0.89566922 0.89588083 0.88648437\n",
            " 0.89314381 0.88333773 0.87959996 0.86665396 0.89142107 0.8720607\n",
            " 0.85080295 0.84339471 0.83869315 0.83151989 0.85755307 0.85651198\n",
            " 0.82969302 0.83589907 0.8142686  0.79668139 0.76557395 0.70496087\n",
            " 0.71772887 0.68711507 0.67963624 0.68477438 0.71392738 0.75150955\n",
            " 0.76239033 0.758488   0.67945488 0.80568489 0.80767295 0.83103296\n",
            " 0.82952847 0.81484621 0.77649499 0.78907835 0.79810193 0.80878118\n",
            " 0.78562269 0.77184714 0.75570064 0.71962969 0.76349513 0.77981963\n",
            " 0.77830505 0.76204442 0.76815979 0.7402594  0.72509693 0.6701022\n",
            " 0.6604405  0.68236654 0.73299891 0.72431443 0.69965481 0.73668626\n",
            " 0.7752222  0.80299492 0.82993817 0.83155687 0.85437617 0.84442899\n",
            " 0.84605105 0.8536004  0.88192392 0.88410342 0.86385987 0.84167188\n",
            " 0.84544991 0.87759845 0.84877463 0.81318389 0.80665875 0.7843331\n",
            " 0.76191004 0.75966339 0.79159031 0.76583582 0.74644482 0.74361753\n",
            " 0.74199134 0.74127293 0.74137926 0.74230272 0.7440334  0.74652499\n",
            " 0.74965596 0.75325483 0.75713056 0.76109302]\n",
            "12 day output [[0.76496565]]\n",
            "13 day input [0.90356111 0.88579936 0.88260229 0.91096944 0.88112125 0.88882178\n",
            " 0.86908533 0.89150502 0.89566922 0.89588083 0.88648437 0.89314381\n",
            " 0.88333773 0.87959996 0.86665396 0.89142107 0.8720607  0.85080295\n",
            " 0.84339471 0.83869315 0.83151989 0.85755307 0.85651198 0.82969302\n",
            " 0.83589907 0.8142686  0.79668139 0.76557395 0.70496087 0.71772887\n",
            " 0.68711507 0.67963624 0.68477438 0.71392738 0.75150955 0.76239033\n",
            " 0.758488   0.67945488 0.80568489 0.80767295 0.83103296 0.82952847\n",
            " 0.81484621 0.77649499 0.78907835 0.79810193 0.80878118 0.78562269\n",
            " 0.77184714 0.75570064 0.71962969 0.76349513 0.77981963 0.77830505\n",
            " 0.76204442 0.76815979 0.7402594  0.72509693 0.6701022  0.6604405\n",
            " 0.68236654 0.73299891 0.72431443 0.69965481 0.73668626 0.7752222\n",
            " 0.80299492 0.82993817 0.83155687 0.85437617 0.84442899 0.84605105\n",
            " 0.8536004  0.88192392 0.88410342 0.86385987 0.84167188 0.84544991\n",
            " 0.87759845 0.84877463 0.81318389 0.80665875 0.7843331  0.76191004\n",
            " 0.75966339 0.79159031 0.76583582 0.74644482 0.74361753 0.74199134\n",
            " 0.74127293 0.74137926 0.74230272 0.7440334  0.74652499 0.74965596\n",
            " 0.75325483 0.75713056 0.76109302 0.76496565]\n",
            "13 day output [[0.76859355]]\n",
            "14 day input [0.88579936 0.88260229 0.91096944 0.88112125 0.88882178 0.86908533\n",
            " 0.89150502 0.89566922 0.89588083 0.88648437 0.89314381 0.88333773\n",
            " 0.87959996 0.86665396 0.89142107 0.8720607  0.85080295 0.84339471\n",
            " 0.83869315 0.83151989 0.85755307 0.85651198 0.82969302 0.83589907\n",
            " 0.8142686  0.79668139 0.76557395 0.70496087 0.71772887 0.68711507\n",
            " 0.67963624 0.68477438 0.71392738 0.75150955 0.76239033 0.758488\n",
            " 0.67945488 0.80568489 0.80767295 0.83103296 0.82952847 0.81484621\n",
            " 0.77649499 0.78907835 0.79810193 0.80878118 0.78562269 0.77184714\n",
            " 0.75570064 0.71962969 0.76349513 0.77981963 0.77830505 0.76204442\n",
            " 0.76815979 0.7402594  0.72509693 0.6701022  0.6604405  0.68236654\n",
            " 0.73299891 0.72431443 0.69965481 0.73668626 0.7752222  0.80299492\n",
            " 0.82993817 0.83155687 0.85437617 0.84442899 0.84605105 0.8536004\n",
            " 0.88192392 0.88410342 0.86385987 0.84167188 0.84544991 0.87759845\n",
            " 0.84877463 0.81318389 0.80665875 0.7843331  0.76191004 0.75966339\n",
            " 0.79159031 0.76583582 0.74644482 0.74361753 0.74199134 0.74127293\n",
            " 0.74137926 0.74230272 0.7440334  0.74652499 0.74965596 0.75325483\n",
            " 0.75713056 0.76109302 0.76496565 0.76859355]\n",
            "14 day output [[0.7718477]]\n",
            "15 day input [0.88260229 0.91096944 0.88112125 0.88882178 0.86908533 0.89150502\n",
            " 0.89566922 0.89588083 0.88648437 0.89314381 0.88333773 0.87959996\n",
            " 0.86665396 0.89142107 0.8720607  0.85080295 0.84339471 0.83869315\n",
            " 0.83151989 0.85755307 0.85651198 0.82969302 0.83589907 0.8142686\n",
            " 0.79668139 0.76557395 0.70496087 0.71772887 0.68711507 0.67963624\n",
            " 0.68477438 0.71392738 0.75150955 0.76239033 0.758488   0.67945488\n",
            " 0.80568489 0.80767295 0.83103296 0.82952847 0.81484621 0.77649499\n",
            " 0.78907835 0.79810193 0.80878118 0.78562269 0.77184714 0.75570064\n",
            " 0.71962969 0.76349513 0.77981963 0.77830505 0.76204442 0.76815979\n",
            " 0.7402594  0.72509693 0.6701022  0.6604405  0.68236654 0.73299891\n",
            " 0.72431443 0.69965481 0.73668626 0.7752222  0.80299492 0.82993817\n",
            " 0.83155687 0.85437617 0.84442899 0.84605105 0.8536004  0.88192392\n",
            " 0.88410342 0.86385987 0.84167188 0.84544991 0.87759845 0.84877463\n",
            " 0.81318389 0.80665875 0.7843331  0.76191004 0.75966339 0.79159031\n",
            " 0.76583582 0.74644482 0.74361753 0.74199134 0.74127293 0.74137926\n",
            " 0.74230272 0.7440334  0.74652499 0.74965596 0.75325483 0.75713056\n",
            " 0.76109302 0.76496565 0.76859355 0.77184772]\n",
            "15 day output [[0.7746259]]\n",
            "16 day input [0.91096944 0.88112125 0.88882178 0.86908533 0.89150502 0.89566922\n",
            " 0.89588083 0.88648437 0.89314381 0.88333773 0.87959996 0.86665396\n",
            " 0.89142107 0.8720607  0.85080295 0.84339471 0.83869315 0.83151989\n",
            " 0.85755307 0.85651198 0.82969302 0.83589907 0.8142686  0.79668139\n",
            " 0.76557395 0.70496087 0.71772887 0.68711507 0.67963624 0.68477438\n",
            " 0.71392738 0.75150955 0.76239033 0.758488   0.67945488 0.80568489\n",
            " 0.80767295 0.83103296 0.82952847 0.81484621 0.77649499 0.78907835\n",
            " 0.79810193 0.80878118 0.78562269 0.77184714 0.75570064 0.71962969\n",
            " 0.76349513 0.77981963 0.77830505 0.76204442 0.76815979 0.7402594\n",
            " 0.72509693 0.6701022  0.6604405  0.68236654 0.73299891 0.72431443\n",
            " 0.69965481 0.73668626 0.7752222  0.80299492 0.82993817 0.83155687\n",
            " 0.85437617 0.84442899 0.84605105 0.8536004  0.88192392 0.88410342\n",
            " 0.86385987 0.84167188 0.84544991 0.87759845 0.84877463 0.81318389\n",
            " 0.80665875 0.7843331  0.76191004 0.75966339 0.79159031 0.76583582\n",
            " 0.74644482 0.74361753 0.74199134 0.74127293 0.74137926 0.74230272\n",
            " 0.7440334  0.74652499 0.74965596 0.75325483 0.75713056 0.76109302\n",
            " 0.76496565 0.76859355 0.77184772 0.7746259 ]\n",
            "16 day output [[0.7768552]]\n",
            "17 day input [0.88112125 0.88882178 0.86908533 0.89150502 0.89566922 0.89588083\n",
            " 0.88648437 0.89314381 0.88333773 0.87959996 0.86665396 0.89142107\n",
            " 0.8720607  0.85080295 0.84339471 0.83869315 0.83151989 0.85755307\n",
            " 0.85651198 0.82969302 0.83589907 0.8142686  0.79668139 0.76557395\n",
            " 0.70496087 0.71772887 0.68711507 0.67963624 0.68477438 0.71392738\n",
            " 0.75150955 0.76239033 0.758488   0.67945488 0.80568489 0.80767295\n",
            " 0.83103296 0.82952847 0.81484621 0.77649499 0.78907835 0.79810193\n",
            " 0.80878118 0.78562269 0.77184714 0.75570064 0.71962969 0.76349513\n",
            " 0.77981963 0.77830505 0.76204442 0.76815979 0.7402594  0.72509693\n",
            " 0.6701022  0.6604405  0.68236654 0.73299891 0.72431443 0.69965481\n",
            " 0.73668626 0.7752222  0.80299492 0.82993817 0.83155687 0.85437617\n",
            " 0.84442899 0.84605105 0.8536004  0.88192392 0.88410342 0.86385987\n",
            " 0.84167188 0.84544991 0.87759845 0.84877463 0.81318389 0.80665875\n",
            " 0.7843331  0.76191004 0.75966339 0.79159031 0.76583582 0.74644482\n",
            " 0.74361753 0.74199134 0.74127293 0.74137926 0.74230272 0.7440334\n",
            " 0.74652499 0.74965596 0.75325483 0.75713056 0.76109302 0.76496565\n",
            " 0.76859355 0.77184772 0.7746259  0.77685517]\n",
            "17 day output [[0.7784901]]\n",
            "18 day input [0.88882178 0.86908533 0.89150502 0.89566922 0.89588083 0.88648437\n",
            " 0.89314381 0.88333773 0.87959996 0.86665396 0.89142107 0.8720607\n",
            " 0.85080295 0.84339471 0.83869315 0.83151989 0.85755307 0.85651198\n",
            " 0.82969302 0.83589907 0.8142686  0.79668139 0.76557395 0.70496087\n",
            " 0.71772887 0.68711507 0.67963624 0.68477438 0.71392738 0.75150955\n",
            " 0.76239033 0.758488   0.67945488 0.80568489 0.80767295 0.83103296\n",
            " 0.82952847 0.81484621 0.77649499 0.78907835 0.79810193 0.80878118\n",
            " 0.78562269 0.77184714 0.75570064 0.71962969 0.76349513 0.77981963\n",
            " 0.77830505 0.76204442 0.76815979 0.7402594  0.72509693 0.6701022\n",
            " 0.6604405  0.68236654 0.73299891 0.72431443 0.69965481 0.73668626\n",
            " 0.7752222  0.80299492 0.82993817 0.83155687 0.85437617 0.84442899\n",
            " 0.84605105 0.8536004  0.88192392 0.88410342 0.86385987 0.84167188\n",
            " 0.84544991 0.87759845 0.84877463 0.81318389 0.80665875 0.7843331\n",
            " 0.76191004 0.75966339 0.79159031 0.76583582 0.74644482 0.74361753\n",
            " 0.74199134 0.74127293 0.74137926 0.74230272 0.7440334  0.74652499\n",
            " 0.74965596 0.75325483 0.75713056 0.76109302 0.76496565 0.76859355\n",
            " 0.77184772 0.7746259  0.77685517 0.77849013]\n",
            "18 day output [[0.7795132]]\n",
            "19 day input [0.86908533 0.89150502 0.89566922 0.89588083 0.88648437 0.89314381\n",
            " 0.88333773 0.87959996 0.86665396 0.89142107 0.8720607  0.85080295\n",
            " 0.84339471 0.83869315 0.83151989 0.85755307 0.85651198 0.82969302\n",
            " 0.83589907 0.8142686  0.79668139 0.76557395 0.70496087 0.71772887\n",
            " 0.68711507 0.67963624 0.68477438 0.71392738 0.75150955 0.76239033\n",
            " 0.758488   0.67945488 0.80568489 0.80767295 0.83103296 0.82952847\n",
            " 0.81484621 0.77649499 0.78907835 0.79810193 0.80878118 0.78562269\n",
            " 0.77184714 0.75570064 0.71962969 0.76349513 0.77981963 0.77830505\n",
            " 0.76204442 0.76815979 0.7402594  0.72509693 0.6701022  0.6604405\n",
            " 0.68236654 0.73299891 0.72431443 0.69965481 0.73668626 0.7752222\n",
            " 0.80299492 0.82993817 0.83155687 0.85437617 0.84442899 0.84605105\n",
            " 0.8536004  0.88192392 0.88410342 0.86385987 0.84167188 0.84544991\n",
            " 0.87759845 0.84877463 0.81318389 0.80665875 0.7843331  0.76191004\n",
            " 0.75966339 0.79159031 0.76583582 0.74644482 0.74361753 0.74199134\n",
            " 0.74127293 0.74137926 0.74230272 0.7440334  0.74652499 0.74965596\n",
            " 0.75325483 0.75713056 0.76109302 0.76496565 0.76859355 0.77184772\n",
            " 0.7746259  0.77685517 0.77849013 0.77951318]\n",
            "19 day output [[0.7799324]]\n",
            "20 day input [0.89150502 0.89566922 0.89588083 0.88648437 0.89314381 0.88333773\n",
            " 0.87959996 0.86665396 0.89142107 0.8720607  0.85080295 0.84339471\n",
            " 0.83869315 0.83151989 0.85755307 0.85651198 0.82969302 0.83589907\n",
            " 0.8142686  0.79668139 0.76557395 0.70496087 0.71772887 0.68711507\n",
            " 0.67963624 0.68477438 0.71392738 0.75150955 0.76239033 0.758488\n",
            " 0.67945488 0.80568489 0.80767295 0.83103296 0.82952847 0.81484621\n",
            " 0.77649499 0.78907835 0.79810193 0.80878118 0.78562269 0.77184714\n",
            " 0.75570064 0.71962969 0.76349513 0.77981963 0.77830505 0.76204442\n",
            " 0.76815979 0.7402594  0.72509693 0.6701022  0.6604405  0.68236654\n",
            " 0.73299891 0.72431443 0.69965481 0.73668626 0.7752222  0.80299492\n",
            " 0.82993817 0.83155687 0.85437617 0.84442899 0.84605105 0.8536004\n",
            " 0.88192392 0.88410342 0.86385987 0.84167188 0.84544991 0.87759845\n",
            " 0.84877463 0.81318389 0.80665875 0.7843331  0.76191004 0.75966339\n",
            " 0.79159031 0.76583582 0.74644482 0.74361753 0.74199134 0.74127293\n",
            " 0.74137926 0.74230272 0.7440334  0.74652499 0.74965596 0.75325483\n",
            " 0.75713056 0.76109302 0.76496565 0.76859355 0.77184772 0.7746259\n",
            " 0.77685517 0.77849013 0.77951318 0.77993238]\n",
            "20 day output [[0.77977914]]\n",
            "21 day input [0.89566922 0.89588083 0.88648437 0.89314381 0.88333773 0.87959996\n",
            " 0.86665396 0.89142107 0.8720607  0.85080295 0.84339471 0.83869315\n",
            " 0.83151989 0.85755307 0.85651198 0.82969302 0.83589907 0.8142686\n",
            " 0.79668139 0.76557395 0.70496087 0.71772887 0.68711507 0.67963624\n",
            " 0.68477438 0.71392738 0.75150955 0.76239033 0.758488   0.67945488\n",
            " 0.80568489 0.80767295 0.83103296 0.82952847 0.81484621 0.77649499\n",
            " 0.78907835 0.79810193 0.80878118 0.78562269 0.77184714 0.75570064\n",
            " 0.71962969 0.76349513 0.77981963 0.77830505 0.76204442 0.76815979\n",
            " 0.7402594  0.72509693 0.6701022  0.6604405  0.68236654 0.73299891\n",
            " 0.72431443 0.69965481 0.73668626 0.7752222  0.80299492 0.82993817\n",
            " 0.83155687 0.85437617 0.84442899 0.84605105 0.8536004  0.88192392\n",
            " 0.88410342 0.86385987 0.84167188 0.84544991 0.87759845 0.84877463\n",
            " 0.81318389 0.80665875 0.7843331  0.76191004 0.75966339 0.79159031\n",
            " 0.76583582 0.74644482 0.74361753 0.74199134 0.74127293 0.74137926\n",
            " 0.74230272 0.7440334  0.74652499 0.74965596 0.75325483 0.75713056\n",
            " 0.76109302 0.76496565 0.76859355 0.77184772 0.7746259  0.77685517\n",
            " 0.77849013 0.77951318 0.77993238 0.77977914]\n",
            "21 day output [[0.7791056]]\n",
            "22 day input [0.89588083 0.88648437 0.89314381 0.88333773 0.87959996 0.86665396\n",
            " 0.89142107 0.8720607  0.85080295 0.84339471 0.83869315 0.83151989\n",
            " 0.85755307 0.85651198 0.82969302 0.83589907 0.8142686  0.79668139\n",
            " 0.76557395 0.70496087 0.71772887 0.68711507 0.67963624 0.68477438\n",
            " 0.71392738 0.75150955 0.76239033 0.758488   0.67945488 0.80568489\n",
            " 0.80767295 0.83103296 0.82952847 0.81484621 0.77649499 0.78907835\n",
            " 0.79810193 0.80878118 0.78562269 0.77184714 0.75570064 0.71962969\n",
            " 0.76349513 0.77981963 0.77830505 0.76204442 0.76815979 0.7402594\n",
            " 0.72509693 0.6701022  0.6604405  0.68236654 0.73299891 0.72431443\n",
            " 0.69965481 0.73668626 0.7752222  0.80299492 0.82993817 0.83155687\n",
            " 0.85437617 0.84442899 0.84605105 0.8536004  0.88192392 0.88410342\n",
            " 0.86385987 0.84167188 0.84544991 0.87759845 0.84877463 0.81318389\n",
            " 0.80665875 0.7843331  0.76191004 0.75966339 0.79159031 0.76583582\n",
            " 0.74644482 0.74361753 0.74199134 0.74127293 0.74137926 0.74230272\n",
            " 0.7440334  0.74652499 0.74965596 0.75325483 0.75713056 0.76109302\n",
            " 0.76496565 0.76859355 0.77184772 0.7746259  0.77685517 0.77849013\n",
            " 0.77951318 0.77993238 0.77977914 0.7791056 ]\n",
            "22 day output [[0.77798015]]\n",
            "23 day input [0.88648437 0.89314381 0.88333773 0.87959996 0.86665396 0.89142107\n",
            " 0.8720607  0.85080295 0.84339471 0.83869315 0.83151989 0.85755307\n",
            " 0.85651198 0.82969302 0.83589907 0.8142686  0.79668139 0.76557395\n",
            " 0.70496087 0.71772887 0.68711507 0.67963624 0.68477438 0.71392738\n",
            " 0.75150955 0.76239033 0.758488   0.67945488 0.80568489 0.80767295\n",
            " 0.83103296 0.82952847 0.81484621 0.77649499 0.78907835 0.79810193\n",
            " 0.80878118 0.78562269 0.77184714 0.75570064 0.71962969 0.76349513\n",
            " 0.77981963 0.77830505 0.76204442 0.76815979 0.7402594  0.72509693\n",
            " 0.6701022  0.6604405  0.68236654 0.73299891 0.72431443 0.69965481\n",
            " 0.73668626 0.7752222  0.80299492 0.82993817 0.83155687 0.85437617\n",
            " 0.84442899 0.84605105 0.8536004  0.88192392 0.88410342 0.86385987\n",
            " 0.84167188 0.84544991 0.87759845 0.84877463 0.81318389 0.80665875\n",
            " 0.7843331  0.76191004 0.75966339 0.79159031 0.76583582 0.74644482\n",
            " 0.74361753 0.74199134 0.74127293 0.74137926 0.74230272 0.7440334\n",
            " 0.74652499 0.74965596 0.75325483 0.75713056 0.76109302 0.76496565\n",
            " 0.76859355 0.77184772 0.7746259  0.77685517 0.77849013 0.77951318\n",
            " 0.77993238 0.77977914 0.7791056  0.77798015]\n",
            "23 day output [[0.77648365]]\n",
            "24 day input [0.89314381 0.88333773 0.87959996 0.86665396 0.89142107 0.8720607\n",
            " 0.85080295 0.84339471 0.83869315 0.83151989 0.85755307 0.85651198\n",
            " 0.82969302 0.83589907 0.8142686  0.79668139 0.76557395 0.70496087\n",
            " 0.71772887 0.68711507 0.67963624 0.68477438 0.71392738 0.75150955\n",
            " 0.76239033 0.758488   0.67945488 0.80568489 0.80767295 0.83103296\n",
            " 0.82952847 0.81484621 0.77649499 0.78907835 0.79810193 0.80878118\n",
            " 0.78562269 0.77184714 0.75570064 0.71962969 0.76349513 0.77981963\n",
            " 0.77830505 0.76204442 0.76815979 0.7402594  0.72509693 0.6701022\n",
            " 0.6604405  0.68236654 0.73299891 0.72431443 0.69965481 0.73668626\n",
            " 0.7752222  0.80299492 0.82993817 0.83155687 0.85437617 0.84442899\n",
            " 0.84605105 0.8536004  0.88192392 0.88410342 0.86385987 0.84167188\n",
            " 0.84544991 0.87759845 0.84877463 0.81318389 0.80665875 0.7843331\n",
            " 0.76191004 0.75966339 0.79159031 0.76583582 0.74644482 0.74361753\n",
            " 0.74199134 0.74127293 0.74137926 0.74230272 0.7440334  0.74652499\n",
            " 0.74965596 0.75325483 0.75713056 0.76109302 0.76496565 0.76859355\n",
            " 0.77184772 0.7746259  0.77685517 0.77849013 0.77951318 0.77993238\n",
            " 0.77977914 0.7791056  0.77798015 0.77648365]\n",
            "24 day output [[0.77470475]]\n",
            "25 day input [0.88333773 0.87959996 0.86665396 0.89142107 0.8720607  0.85080295\n",
            " 0.84339471 0.83869315 0.83151989 0.85755307 0.85651198 0.82969302\n",
            " 0.83589907 0.8142686  0.79668139 0.76557395 0.70496087 0.71772887\n",
            " 0.68711507 0.67963624 0.68477438 0.71392738 0.75150955 0.76239033\n",
            " 0.758488   0.67945488 0.80568489 0.80767295 0.83103296 0.82952847\n",
            " 0.81484621 0.77649499 0.78907835 0.79810193 0.80878118 0.78562269\n",
            " 0.77184714 0.75570064 0.71962969 0.76349513 0.77981963 0.77830505\n",
            " 0.76204442 0.76815979 0.7402594  0.72509693 0.6701022  0.6604405\n",
            " 0.68236654 0.73299891 0.72431443 0.69965481 0.73668626 0.7752222\n",
            " 0.80299492 0.82993817 0.83155687 0.85437617 0.84442899 0.84605105\n",
            " 0.8536004  0.88192392 0.88410342 0.86385987 0.84167188 0.84544991\n",
            " 0.87759845 0.84877463 0.81318389 0.80665875 0.7843331  0.76191004\n",
            " 0.75966339 0.79159031 0.76583582 0.74644482 0.74361753 0.74199134\n",
            " 0.74127293 0.74137926 0.74230272 0.7440334  0.74652499 0.74965596\n",
            " 0.75325483 0.75713056 0.76109302 0.76496565 0.76859355 0.77184772\n",
            " 0.7746259  0.77685517 0.77849013 0.77951318 0.77993238 0.77977914\n",
            " 0.7791056  0.77798015 0.77648365 0.77470475]\n",
            "25 day output [[0.77273595]]\n",
            "26 day input [0.87959996 0.86665396 0.89142107 0.8720607  0.85080295 0.84339471\n",
            " 0.83869315 0.83151989 0.85755307 0.85651198 0.82969302 0.83589907\n",
            " 0.8142686  0.79668139 0.76557395 0.70496087 0.71772887 0.68711507\n",
            " 0.67963624 0.68477438 0.71392738 0.75150955 0.76239033 0.758488\n",
            " 0.67945488 0.80568489 0.80767295 0.83103296 0.82952847 0.81484621\n",
            " 0.77649499 0.78907835 0.79810193 0.80878118 0.78562269 0.77184714\n",
            " 0.75570064 0.71962969 0.76349513 0.77981963 0.77830505 0.76204442\n",
            " 0.76815979 0.7402594  0.72509693 0.6701022  0.6604405  0.68236654\n",
            " 0.73299891 0.72431443 0.69965481 0.73668626 0.7752222  0.80299492\n",
            " 0.82993817 0.83155687 0.85437617 0.84442899 0.84605105 0.8536004\n",
            " 0.88192392 0.88410342 0.86385987 0.84167188 0.84544991 0.87759845\n",
            " 0.84877463 0.81318389 0.80665875 0.7843331  0.76191004 0.75966339\n",
            " 0.79159031 0.76583582 0.74644482 0.74361753 0.74199134 0.74127293\n",
            " 0.74137926 0.74230272 0.7440334  0.74652499 0.74965596 0.75325483\n",
            " 0.75713056 0.76109302 0.76496565 0.76859355 0.77184772 0.7746259\n",
            " 0.77685517 0.77849013 0.77951318 0.77993238 0.77977914 0.7791056\n",
            " 0.77798015 0.77648365 0.77470475 0.77273595]\n",
            "26 day output [[0.77066815]]\n",
            "27 day input [0.86665396 0.89142107 0.8720607  0.85080295 0.84339471 0.83869315\n",
            " 0.83151989 0.85755307 0.85651198 0.82969302 0.83589907 0.8142686\n",
            " 0.79668139 0.76557395 0.70496087 0.71772887 0.68711507 0.67963624\n",
            " 0.68477438 0.71392738 0.75150955 0.76239033 0.758488   0.67945488\n",
            " 0.80568489 0.80767295 0.83103296 0.82952847 0.81484621 0.77649499\n",
            " 0.78907835 0.79810193 0.80878118 0.78562269 0.77184714 0.75570064\n",
            " 0.71962969 0.76349513 0.77981963 0.77830505 0.76204442 0.76815979\n",
            " 0.7402594  0.72509693 0.6701022  0.6604405  0.68236654 0.73299891\n",
            " 0.72431443 0.69965481 0.73668626 0.7752222  0.80299492 0.82993817\n",
            " 0.83155687 0.85437617 0.84442899 0.84605105 0.8536004  0.88192392\n",
            " 0.88410342 0.86385987 0.84167188 0.84544991 0.87759845 0.84877463\n",
            " 0.81318389 0.80665875 0.7843331  0.76191004 0.75966339 0.79159031\n",
            " 0.76583582 0.74644482 0.74361753 0.74199134 0.74127293 0.74137926\n",
            " 0.74230272 0.7440334  0.74652499 0.74965596 0.75325483 0.75713056\n",
            " 0.76109302 0.76496565 0.76859355 0.77184772 0.7746259  0.77685517\n",
            " 0.77849013 0.77951318 0.77993238 0.77977914 0.7791056  0.77798015\n",
            " 0.77648365 0.77470475 0.77273595 0.77066815]\n",
            "27 day output [[0.76858765]]\n",
            "28 day input [0.89142107 0.8720607  0.85080295 0.84339471 0.83869315 0.83151989\n",
            " 0.85755307 0.85651198 0.82969302 0.83589907 0.8142686  0.79668139\n",
            " 0.76557395 0.70496087 0.71772887 0.68711507 0.67963624 0.68477438\n",
            " 0.71392738 0.75150955 0.76239033 0.758488   0.67945488 0.80568489\n",
            " 0.80767295 0.83103296 0.82952847 0.81484621 0.77649499 0.78907835\n",
            " 0.79810193 0.80878118 0.78562269 0.77184714 0.75570064 0.71962969\n",
            " 0.76349513 0.77981963 0.77830505 0.76204442 0.76815979 0.7402594\n",
            " 0.72509693 0.6701022  0.6604405  0.68236654 0.73299891 0.72431443\n",
            " 0.69965481 0.73668626 0.7752222  0.80299492 0.82993817 0.83155687\n",
            " 0.85437617 0.84442899 0.84605105 0.8536004  0.88192392 0.88410342\n",
            " 0.86385987 0.84167188 0.84544991 0.87759845 0.84877463 0.81318389\n",
            " 0.80665875 0.7843331  0.76191004 0.75966339 0.79159031 0.76583582\n",
            " 0.74644482 0.74361753 0.74199134 0.74127293 0.74137926 0.74230272\n",
            " 0.7440334  0.74652499 0.74965596 0.75325483 0.75713056 0.76109302\n",
            " 0.76496565 0.76859355 0.77184772 0.7746259  0.77685517 0.77849013\n",
            " 0.77951318 0.77993238 0.77977914 0.7791056  0.77798015 0.77648365\n",
            " 0.77470475 0.77273595 0.77066815 0.76858765]\n",
            "28 day output [[0.76657295]]\n",
            "29 day input [0.8720607  0.85080295 0.84339471 0.83869315 0.83151989 0.85755307\n",
            " 0.85651198 0.82969302 0.83589907 0.8142686  0.79668139 0.76557395\n",
            " 0.70496087 0.71772887 0.68711507 0.67963624 0.68477438 0.71392738\n",
            " 0.75150955 0.76239033 0.758488   0.67945488 0.80568489 0.80767295\n",
            " 0.83103296 0.82952847 0.81484621 0.77649499 0.78907835 0.79810193\n",
            " 0.80878118 0.78562269 0.77184714 0.75570064 0.71962969 0.76349513\n",
            " 0.77981963 0.77830505 0.76204442 0.76815979 0.7402594  0.72509693\n",
            " 0.6701022  0.6604405  0.68236654 0.73299891 0.72431443 0.69965481\n",
            " 0.73668626 0.7752222  0.80299492 0.82993817 0.83155687 0.85437617\n",
            " 0.84442899 0.84605105 0.8536004  0.88192392 0.88410342 0.86385987\n",
            " 0.84167188 0.84544991 0.87759845 0.84877463 0.81318389 0.80665875\n",
            " 0.7843331  0.76191004 0.75966339 0.79159031 0.76583582 0.74644482\n",
            " 0.74361753 0.74199134 0.74127293 0.74137926 0.74230272 0.7440334\n",
            " 0.74652499 0.74965596 0.75325483 0.75713056 0.76109302 0.76496565\n",
            " 0.76859355 0.77184772 0.7746259  0.77685517 0.77849013 0.77951318\n",
            " 0.77993238 0.77977914 0.7791056  0.77798015 0.77648365 0.77470475\n",
            " 0.77273595 0.77066815 0.76858765 0.76657295]\n",
            "29 day output [[0.7646916]]\n"
          ]
        }
      ]
    },
    {
      "cell_type": "code",
      "source": [
        "day_new=np.arange(1,101)\n",
        "day_pred=np.arange(len(data)+1,len(data)+31)"
      ],
      "metadata": {
        "id": "PzfdsYWY7AVE"
      },
      "execution_count": null,
      "outputs": []
    },
    {
      "cell_type": "code",
      "source": [
        "# plt.plot(day_new,scaler.inverse_transform(data[1231:]))\n",
        "plt.plot(scaler.inverse_transform(data))\n",
        "plt.plot(day_pred,scaler.inverse_transform(lst_output));"
      ],
      "metadata": {
        "colab": {
          "base_uri": "https://localhost:8080/",
          "height": 265
        },
        "id": "9P2wLl_K8j-8",
        "outputId": "7e79e410-e071-4f33-f760-c3a8c2141c01"
      },
      "execution_count": null,
      "outputs": [
        {
          "output_type": "display_data",
          "data": {
            "text/plain": [
              "<Figure size 432x288 with 1 Axes>"
            ],
            "image/png": "[encoded data removed]"
          },
          "metadata": {
            "needs_background": "light"
          }
        }
      ]
    },
    {
      "cell_type": "markdown",
      "source": [
        "##Stock Sentiment Analysis"
      ],
      "metadata": {
        "id": "vs20O81CD1_M"
      }
    },
    {
      "cell_type": "code",
      "source": [
        "import os\n",
        "os.environ['KAGGLE_CONFIG_DIR'] = '/content' \n",
        "import pandas as pd"
      ],
      "metadata": {
        "id": "tpKyxl8zdpnS"
      },
      "execution_count": 8,
      "outputs": []
    },
    {
      "cell_type": "code",
      "source": [
        "!kaggle datasets download -d aaron7sun/stocknews"
      ],
      "metadata": {
        "colab": {
          "base_uri": "https://localhost:8080/"
        },
        "id": "9K_K46Y6ELOA",
        "outputId": "6eea18f8-08b8-4c69-8e69-301336f7f568"
      },
      "execution_count": 4,
      "outputs": [
        {
          "output_type": "stream",
          "name": "stdout",
          "text": [
            "Warning: Your Kaggle API key is readable by other users on this system! To fix this, you can run 'chmod 600 /content/kaggle.json'\n",
            "Downloading stocknews.zip to /content\n",
            "  0% 0.00/5.82M [00:00<?, ?B/s]\n",
            "100% 5.82M/5.82M [00:00<00:00, 213MB/s]\n"
          ]
        }
      ]
    },
    {
      "cell_type": "code",
      "source": [
        "!unzip ./stocknews.zip"
      ],
      "metadata": {
        "colab": {
          "base_uri": "https://localhost:8080/"
        },
        "id": "fWPu7m-6ER7x",
        "outputId": "8cf900de-35e7-429e-fbc9-3bb6aedd293d"
      },
      "execution_count": 7,
      "outputs": [
        {
          "output_type": "stream",
          "name": "stdout",
          "text": [
            "Archive:  ./stocknews.zip\n",
            "  inflating: Combined_News_DJIA.csv  \n",
            "  inflating: RedditNews.csv          \n",
            "  inflating: upload_DJIA_table.csv   \n"
          ]
        }
      ]
    },
    {
      "cell_type": "code",
      "source": [
        "df = pd.read_csv('Combined_News_DJIA.csv')"
      ],
      "metadata": {
        "id": "fsY6vXGQFZos"
      },
      "execution_count": 20,
      "outputs": []
    },
    {
      "cell_type": "code",
      "source": [
        "df.head()"
      ],
      "metadata": {
        "colab": {
          "base_uri": "https://localhost:8080/",
          "height": 734
        },
        "id": "0_NGocdiFWem",
        "outputId": "0b0a6b7e-46e8-4aad-90f8-759b1e014411"
      },
      "execution_count": 21,
      "outputs": [
        {
          "output_type": "execute_result",
          "data": {
            "text/plain": [
              "         Date  Label                                               Top1  \\\n",
              "0  2008-08-08      0  b\"Georgia 'downs two Russian warplanes' as cou...   \n",
              "1  2008-08-11      1  b'Why wont America and Nato help us? If they w...   \n",
              "2  2008-08-12      0  b'Remember that adorable 9-year-old who sang a...   \n",
              "3  2008-08-13      0  b' U.S. refuses Israel weapons to attack Iran:...   \n",
              "4  2008-08-14      1  b'All the experts admit that we should legalis...   \n",
              "\n",
              "                                                Top2  \\\n",
              "0            b'BREAKING: Musharraf to be impeached.'   \n",
              "1        b'Bush puts foot down on Georgian conflict'   \n",
              "2                 b\"Russia 'ends Georgia operation'\"   \n",
              "3  b\"When the president ordered to attack Tskhinv...   \n",
              "4  b'War in South Osetia - 89 pictures made by a ...   \n",
              "\n",
              "                                                Top3  \\\n",
              "0  b'Russia Today: Columns of troops roll into So...   \n",
              "1  b\"Jewish Georgian minister: Thanks to Israeli ...   \n",
              "2  b'\"If we had no sexual harassment we would hav...   \n",
              "3  b' Israel clears troops who killed Reuters cam...   \n",
              "4  b'Swedish wrestler Ara Abrahamian throws away ...   \n",
              "\n",
              "                                                Top4  \\\n",
              "0  b'Russian tanks are moving towards the capital...   \n",
              "1  b'Georgian army flees in disarray as Russians ...   \n",
              "2  b\"Al-Qa'eda is losing support in Iraq because ...   \n",
              "3  b'Britain\\'s policy of being tough on drugs is...   \n",
              "4  b'Russia exaggerated the death toll in South O...   \n",
              "\n",
              "                                                Top5  \\\n",
              "0  b\"Afghan children raped with 'impunity,' U.N. ...   \n",
              "1      b\"Olympic opening ceremony fireworks 'faked'\"   \n",
              "2  b'Ceasefire in Georgia: Putin Outmaneuvers the...   \n",
              "3  b'Body of 14 year old found in trunk; Latest (...   \n",
              "4  b'Missile That Killed 9 Inside Pakistan May Ha...   \n",
              "\n",
              "                                                Top6  \\\n",
              "0  b'150 Russian tanks have entered South Ossetia...   \n",
              "1  b'What were the Mossad with fraudulent New Zea...   \n",
              "2  b'Why Microsoft and Intel tried to kill the XO...   \n",
              "3  b'China has moved 10 *million* quake survivors...   \n",
              "4  b\"Rushdie Condemns Random House's Refusal to P...   \n",
              "\n",
              "                                                Top7  \\\n",
              "0  b\"Breaking: Georgia invades South Ossetia, Rus...   \n",
              "1  b'Russia angered by Israeli military sale to G...   \n",
              "2  b'Stratfor: The Russo-Georgian War and the Bal...   \n",
              "3  b\"Bush announces Operation Get All Up In Russi...   \n",
              "4  b'Poland and US agree to missle defense deal. ...   \n",
              "\n",
              "                                                Top8  ...  \\\n",
              "0  b\"The 'enemy combatent' trials are nothing but...  ...   \n",
              "1  b'An American citizen living in S.Ossetia blam...  ...   \n",
              "2  b\"I'm Trying to Get a Sense of This Whole Geor...  ...   \n",
              "3             b'Russian forces sink Georgian ships '  ...   \n",
              "4  b'Will the Russians conquer Tblisi? Bet on it,...  ...   \n",
              "\n",
              "                                               Top16  \\\n",
              "0  b'Georgia Invades South Ossetia - if Russia ge...   \n",
              "1  b'Israel and the US behind the Georgian aggres...   \n",
              "2  b'U.S. troops still in Georgia (did you know t...   \n",
              "3                      b'Elephants extinct by 2020?'   \n",
              "4  b'Bank analyst forecast Georgian crisis 2 days...   \n",
              "\n",
              "                                               Top17  \\\n",
              "0                b'Al-Qaeda Faces Islamist Backlash'   \n",
              "1  b'\"Do not believe TV, neither Russian nor Geor...   \n",
              "2       b'Why Russias response to Georgia was right'   \n",
              "3  b'US humanitarian missions soon in Georgia - i...   \n",
              "4  b\"Georgia confict could set back Russia's US r...   \n",
              "\n",
              "                                               Top18  \\\n",
              "0  b'Condoleezza Rice: \"The US would not act to p...   \n",
              "1  b'Riots are still going on in Montreal (Canada...   \n",
              "2  b'Gorbachev accuses U.S. of making a \"serious ...   \n",
              "3             b\"Georgia's DDOS came from US sources\"   \n",
              "4  b'War in the Caucasus is as much the product o...   \n",
              "\n",
              "                                               Top19  \\\n",
              "0  b'This is a busy day:  The European Union has ...   \n",
              "1    b'China to overtake US as largest manufacturer'   \n",
              "2         b'Russia, Georgia, and NATO: Cold War Two'   \n",
              "3  b'Russian convoy heads into Georgia, violating...   \n",
              "4  b'\"Non-media\" photos of South Ossetia/Georgia ...   \n",
              "\n",
              "                                               Top20  \\\n",
              "0  b\"Georgia will withdraw 1,000 soldiers from Ir...   \n",
              "1                     b'War in South Ossetia [PICS]'   \n",
              "2  b'Remember that adorable 62-year-old who led y...   \n",
              "3  b'Israeli defence minister: US against strike ...   \n",
              "4  b'Georgian TV reporter shot by Russian sniper ...   \n",
              "\n",
              "                                               Top21  \\\n",
              "0  b'Why the Pentagon Thinks Attacking Iran is a ...   \n",
              "1  b'Israeli Physicians Group Condemns State Tort...   \n",
              "2          b'War in Georgia: The Israeli connection'   \n",
              "3                     b'Gorbachev: We Had No Choice'   \n",
              "4  b'Saudi Arabia: Mother moves to block child ma...   \n",
              "\n",
              "                                               Top22  \\\n",
              "0  b'Caucasus in crisis: Georgia invades South Os...   \n",
              "1  b' Russia has just beaten the United States ov...   \n",
              "2  b'All signs point to the US encouraging Georgi...   \n",
              "3  b'Witness: Russian forces head towards Tbilisi...   \n",
              "4   b'Taliban wages war on humanitarian aid workers'   \n",
              "\n",
              "                                               Top23  \\\n",
              "0  b'Indian shoe manufactory  - And again in a se...   \n",
              "1  b'Perhaps *the* question about the Georgia - R...   \n",
              "2  b'Christopher King argues that the US and NATO...   \n",
              "3  b' Quarter of Russians blame U.S. for conflict...   \n",
              "4  b'Russia: World  \"can forget about\" Georgia\\'s...   \n",
              "\n",
              "                                               Top24  \\\n",
              "0  b'Visitors Suffering from Mental Illnesses Ban...   \n",
              "1                 b'Russia is so much better at war'   \n",
              "2                        b'America: The New Mexico?'   \n",
              "3  b'Georgian president  says US military will ta...   \n",
              "4  b'Darfur rebels accuse Sudan of mounting major...   \n",
              "\n",
              "                                               Top25  \n",
              "0           b\"No Help for Mexico's Kidnapping Surge\"  \n",
              "1  b\"So this is what it's come to: trading sex fo...  \n",
              "2  b\"BBC NEWS | Asia-Pacific | Extinction 'by man...  \n",
              "3  b'2006: Nobel laureate Aleksander Solzhenitsyn...  \n",
              "4  b'Philippines : Peace Advocate say Muslims nee...  \n",
              "\n",
              "[5 rows x 27 columns]"
            ],
            "text/html": [
              "\n",
              "  <div id=\"df-4ffa77e0-ed1d-46ec-8cbc-f3bc765a1bde\">\n",
              "    <div class=\"colab-df-container\">\n",
              "      <div>\n",
              "<style scoped>\n",
              "    .dataframe tbody tr th:only-of-type {\n",
              "        vertical-align: middle;\n",
              "    }\n",
              "\n",
              "    .dataframe tbody tr th {\n",
              "        vertical-align: top;\n",
              "    }\n",
              "\n",
              "    .dataframe thead th {\n",
              "        text-align: right;\n",
              "    }\n",
              "</style>\n",
              "<table border=\"1\" class=\"dataframe\">\n",
              "  <thead>\n",
              "    <tr style=\"text-align: right;\">\n",
              "      <th></th>\n",
              "      <th>Date</th>\n",
              "      <th>Label</th>\n",
              "      <th>Top1</th>\n",
              "      <th>Top2</th>\n",
              "      <th>Top3</th>\n",
              "      <th>Top4</th>\n",
              "      <th>Top5</th>\n",
              "      <th>Top6</th>\n",
              "      <th>Top7</th>\n",
              "      <th>Top8</th>\n",
              "      <th>...</th>\n",
              "      <th>Top16</th>\n",
              "      <th>Top17</th>\n",
              "      <th>Top18</th>\n",
              "      <th>Top19</th>\n",
              "      <th>Top20</th>\n",
              "      <th>Top21</th>\n",
              "      <th>Top22</th>\n",
              "      <th>Top23</th>\n",
              "      <th>Top24</th>\n",
              "      <th>Top25</th>\n",
              "    </tr>\n",
              "  </thead>\n",
              "  <tbody>\n",
              "    <tr>\n",
              "      <th>0</th>\n",
              "      <td>2008-08-08</td>\n",
              "      <td>0</td>\n",
              "      <td>b\"Georgia 'downs two Russian warplanes' as cou...</td>\n",
              "      <td>b'BREAKING: Musharraf to be impeached.'</td>\n",
              "      <td>b'Russia Today: Columns of troops roll into So...</td>\n",
              "      <td>b'Russian tanks are moving towards the capital...</td>\n",
              "      <td>b\"Afghan children raped with 'impunity,' U.N. ...</td>\n",
              "      <td>b'150 Russian tanks have entered South Ossetia...</td>\n",
              "      <td>b\"Breaking: Georgia invades South Ossetia, Rus...</td>\n",
              "      <td>b\"The 'enemy combatent' trials are nothing but...</td>\n",
              "      <td>...</td>\n",
              "      <td>b'Georgia Invades South Ossetia - if Russia ge...</td>\n",
              "      <td>b'Al-Qaeda Faces Islamist Backlash'</td>\n",
              "      <td>b'Condoleezza Rice: \"The US would not act to p...</td>\n",
              "      <td>b'This is a busy day:  The European Union has ...</td>\n",
              "      <td>b\"Georgia will withdraw 1,000 soldiers from Ir...</td>\n",
              "      <td>b'Why the Pentagon Thinks Attacking Iran is a ...</td>\n",
              "      <td>b'Caucasus in crisis: Georgia invades South Os...</td>\n",
              "      <td>b'Indian shoe manufactory  - And again in a se...</td>\n",
              "      <td>b'Visitors Suffering from Mental Illnesses Ban...</td>\n",
              "      <td>b\"No Help for Mexico's Kidnapping Surge\"</td>\n",
              "    </tr>\n",
              "    <tr>\n",
              "      <th>1</th>\n",
              "      <td>2008-08-11</td>\n",
              "      <td>1</td>\n",
              "      <td>b'Why wont America and Nato help us? If they w...</td>\n",
              "      <td>b'Bush puts foot down on Georgian conflict'</td>\n",
              "      <td>b\"Jewish Georgian minister: Thanks to Israeli ...</td>\n",
              "      <td>b'Georgian army flees in disarray as Russians ...</td>\n",
              "      <td>b\"Olympic opening ceremony fireworks 'faked'\"</td>\n",
              "      <td>b'What were the Mossad with fraudulent New Zea...</td>\n",
              "      <td>b'Russia angered by Israeli military sale to G...</td>\n",
              "      <td>b'An American citizen living in S.Ossetia blam...</td>\n",
              "      <td>...</td>\n",
              "      <td>b'Israel and the US behind the Georgian aggres...</td>\n",
              "      <td>b'\"Do not believe TV, neither Russian nor Geor...</td>\n",
              "      <td>b'Riots are still going on in Montreal (Canada...</td>\n",
              "      <td>b'China to overtake US as largest manufacturer'</td>\n",
              "      <td>b'War in South Ossetia [PICS]'</td>\n",
              "      <td>b'Israeli Physicians Group Condemns State Tort...</td>\n",
              "      <td>b' Russia has just beaten the United States ov...</td>\n",
              "      <td>b'Perhaps *the* question about the Georgia - R...</td>\n",
              "      <td>b'Russia is so much better at war'</td>\n",
              "      <td>b\"So this is what it's come to: trading sex fo...</td>\n",
              "    </tr>\n",
              "    <tr>\n",
              "      <th>2</th>\n",
              "      <td>2008-08-12</td>\n",
              "      <td>0</td>\n",
              "      <td>b'Remember that adorable 9-year-old who sang a...</td>\n",
              "      <td>b\"Russia 'ends Georgia operation'\"</td>\n",
              "      <td>b'\"If we had no sexual harassment we would hav...</td>\n",
              "      <td>b\"Al-Qa'eda is losing support in Iraq because ...</td>\n",
              "      <td>b'Ceasefire in Georgia: Putin Outmaneuvers the...</td>\n",
              "      <td>b'Why Microsoft and Intel tried to kill the XO...</td>\n",
              "      <td>b'Stratfor: The Russo-Georgian War and the Bal...</td>\n",
              "      <td>b\"I'm Trying to Get a Sense of This Whole Geor...</td>\n",
              "      <td>...</td>\n",
              "      <td>b'U.S. troops still in Georgia (did you know t...</td>\n",
              "      <td>b'Why Russias response to Georgia was right'</td>\n",
              "      <td>b'Gorbachev accuses U.S. of making a \"serious ...</td>\n",
              "      <td>b'Russia, Georgia, and NATO: Cold War Two'</td>\n",
              "      <td>b'Remember that adorable 62-year-old who led y...</td>\n",
              "      <td>b'War in Georgia: The Israeli connection'</td>\n",
              "      <td>b'All signs point to the US encouraging Georgi...</td>\n",
              "      <td>b'Christopher King argues that the US and NATO...</td>\n",
              "      <td>b'America: The New Mexico?'</td>\n",
              "      <td>b\"BBC NEWS | Asia-Pacific | Extinction 'by man...</td>\n",
              "    </tr>\n",
              "    <tr>\n",
              "      <th>3</th>\n",
              "      <td>2008-08-13</td>\n",
              "      <td>0</td>\n",
              "      <td>b' U.S. refuses Israel weapons to attack Iran:...</td>\n",
              "      <td>b\"When the president ordered to attack Tskhinv...</td>\n",
              "      <td>b' Israel clears troops who killed Reuters cam...</td>\n",
              "      <td>b'Britain\\'s policy of being tough on drugs is...</td>\n",
              "      <td>b'Body of 14 year old found in trunk; Latest (...</td>\n",
              "      <td>b'China has moved 10 *million* quake survivors...</td>\n",
              "      <td>b\"Bush announces Operation Get All Up In Russi...</td>\n",
              "      <td>b'Russian forces sink Georgian ships '</td>\n",
              "      <td>...</td>\n",
              "      <td>b'Elephants extinct by 2020?'</td>\n",
              "      <td>b'US humanitarian missions soon in Georgia - i...</td>\n",
              "      <td>b\"Georgia's DDOS came from US sources\"</td>\n",
              "      <td>b'Russian convoy heads into Georgia, violating...</td>\n",
              "      <td>b'Israeli defence minister: US against strike ...</td>\n",
              "      <td>b'Gorbachev: We Had No Choice'</td>\n",
              "      <td>b'Witness: Russian forces head towards Tbilisi...</td>\n",
              "      <td>b' Quarter of Russians blame U.S. for conflict...</td>\n",
              "      <td>b'Georgian president  says US military will ta...</td>\n",
              "      <td>b'2006: Nobel laureate Aleksander Solzhenitsyn...</td>\n",
              "    </tr>\n",
              "    <tr>\n",
              "      <th>4</th>\n",
              "      <td>2008-08-14</td>\n",
              "      <td>1</td>\n",
              "      <td>b'All the experts admit that we should legalis...</td>\n",
              "      <td>b'War in South Osetia - 89 pictures made by a ...</td>\n",
              "      <td>b'Swedish wrestler Ara Abrahamian throws away ...</td>\n",
              "      <td>b'Russia exaggerated the death toll in South O...</td>\n",
              "      <td>b'Missile That Killed 9 Inside Pakistan May Ha...</td>\n",
              "      <td>b\"Rushdie Condemns Random House's Refusal to P...</td>\n",
              "      <td>b'Poland and US agree to missle defense deal. ...</td>\n",
              "      <td>b'Will the Russians conquer Tblisi? Bet on it,...</td>\n",
              "      <td>...</td>\n",
              "      <td>b'Bank analyst forecast Georgian crisis 2 days...</td>\n",
              "      <td>b\"Georgia confict could set back Russia's US r...</td>\n",
              "      <td>b'War in the Caucasus is as much the product o...</td>\n",
              "      <td>b'\"Non-media\" photos of South Ossetia/Georgia ...</td>\n",
              "      <td>b'Georgian TV reporter shot by Russian sniper ...</td>\n",
              "      <td>b'Saudi Arabia: Mother moves to block child ma...</td>\n",
              "      <td>b'Taliban wages war on humanitarian aid workers'</td>\n",
              "      <td>b'Russia: World  \"can forget about\" Georgia\\'s...</td>\n",
              "      <td>b'Darfur rebels accuse Sudan of mounting major...</td>\n",
              "      <td>b'Philippines : Peace Advocate say Muslims nee...</td>\n",
              "    </tr>\n",
              "  </tbody>\n",
              "</table>\n",
              "<p>5 rows × 27 columns</p>\n",
              "</div>\n",
              "      <button class=\"colab-df-convert\" onclick=\"convertToInteractive('df-4ffa77e0-ed1d-46ec-8cbc-f3bc765a1bde')\"\n",
              "              title=\"Convert this dataframe to an interactive table.\"\n",
              "              style=\"display:none;\">\n",
              "        \n",
              "  <svg xmlns=\"http://www.w3.org/2000/svg\" height=\"24px\"viewBox=\"0 0 24 24\"\n",
              "       width=\"24px\">\n",
              "    <path d=\"M0 0h24v24H0V0z\" fill=\"none\"/>\n",
              "    <path d=\"M18.56 5.44l.94 2.06.94-2.06 2.06-.94-2.06-.94-.94-2.06-.94 2.06-2.06.94zm-11 1L8.5 8.5l.94-2.06 2.06-.94-2.06-.94L8.5 2.5l-.94 2.06-2.06.94zm10 10l.94 2.06.94-2.06 2.06-.94-2.06-.94-.94-2.06-.94 2.06-2.06.94z\"/><path d=\"M17.41 7.96l-1.37-1.37c-.4-.4-.92-.59-1.43-.59-.52 0-1.04.2-1.43.59L10.3 9.45l-7.72 7.72c-.78.78-.78 2.05 0 2.83L4 21.41c.39.39.9.59 1.41.59.51 0 1.02-.2 1.41-.59l7.78-7.78 2.81-2.81c.8-.78.8-2.07 0-2.86zM5.41 20L4 18.59l7.72-7.72 1.47 1.35L5.41 20z\"/>\n",
              "  </svg>\n",
              "      </button>\n",
              "      \n",
              "  <style>\n",
              "    .colab-df-container {\n",
              "      display:flex;\n",
              "      flex-wrap:wrap;\n",
              "      gap: 12px;\n",
              "    }\n",
              "\n",
              "    .colab-df-convert {\n",
              "      background-color: #E8F0FE;\n",
              "      border: none;\n",
              "      border-radius: 50%;\n",
              "      cursor: pointer;\n",
              "      display: none;\n",
              "      fill: #1967D2;\n",
              "      height: 32px;\n",
              "      padding: 0 0 0 0;\n",
              "      width: 32px;\n",
              "    }\n",
              "\n",
              "    .colab-df-convert:hover {\n",
              "      background-color: #E2EBFA;\n",
              "      box-shadow: 0px 1px 2px rgba(60, 64, 67, 0.3), 0px 1px 3px 1px rgba(60, 64, 67, 0.15);\n",
              "      fill: #174EA6;\n",
              "    }\n",
              "\n",
              "    [theme=dark] .colab-df-convert {\n",
              "      background-color: #3B4455;\n",
              "      fill: #D2E3FC;\n",
              "    }\n",
              "\n",
              "    [theme=dark] .colab-df-convert:hover {\n",
              "      background-color: #434B5C;\n",
              "      box-shadow: 0px 1px 3px 1px rgba(0, 0, 0, 0.15);\n",
              "      filter: drop-shadow(0px 1px 2px rgba(0, 0, 0, 0.3));\n",
              "      fill: #FFFFFF;\n",
              "    }\n",
              "  </style>\n",
              "\n",
              "      <script>\n",
              "        const buttonEl =\n",
              "          document.querySelector('#df-4ffa77e0-ed1d-46ec-8cbc-f3bc765a1bde button.colab-df-convert');\n",
              "        buttonEl.style.display =\n",
              "          google.colab.kernel.accessAllowed ? 'block' : 'none';\n",
              "\n",
              "        async function convertToInteractive(key) {\n",
              "          const element = document.querySelector('#df-4ffa77e0-ed1d-46ec-8cbc-f3bc765a1bde');\n",
              "          const dataTable =\n",
              "            await google.colab.kernel.invokeFunction('convertToInteractive',\n",
              "                                                     [key], {});\n",
              "          if (!dataTable) return;\n",
              "\n",
              "          const docLinkHtml = 'Like what you see? Visit the ' +\n",
              "            '<a target=\"_blank\" href=https://colab.research.google.com/notebooks/data_table.ipynb>data table notebook</a>'\n",
              "            + ' to learn more about interactive tables.';\n",
              "          element.innerHTML = '';\n",
              "          dataTable['output_type'] = 'display_data';\n",
              "          await google.colab.output.renderOutput(dataTable, element);\n",
              "          const docLink = document.createElement('div');\n",
              "          docLink.innerHTML = docLinkHtml;\n",
              "          element.appendChild(docLink);\n",
              "        }\n",
              "      </script>\n",
              "    </div>\n",
              "  </div>\n",
              "  "
            ]
          },
          "metadata": {},
          "execution_count": 21
        }
      ]
    },
    {
      "cell_type": "markdown",
      "source": [
        "###train test split"
      ],
      "metadata": {
        "id": "WWM2yTcSG20I"
      }
    },
    {
      "cell_type": "code",
      "source": [
        "train = df[df['Date'] < '20150101']\n",
        "test = df[df['Date'] > '20141231']"
      ],
      "metadata": {
        "id": "S4BCrMTvFpit"
      },
      "execution_count": 22,
      "outputs": []
    },
    {
      "cell_type": "code",
      "source": [
        "print('Train size:', train.shape[0])\n",
        "print('Test size:',test.shape[0])"
      ],
      "metadata": {
        "colab": {
          "base_uri": "https://localhost:8080/"
        },
        "id": "zWcHPHRvG5wo",
        "outputId": "a16dd384-0418-4524-8845-440e6cd8b1ad"
      },
      "execution_count": 27,
      "outputs": [
        {
          "output_type": "stream",
          "name": "stdout",
          "text": [
            "Train size: 1863\n",
            "Test size: 378\n"
          ]
        }
      ]
    },
    {
      "cell_type": "markdown",
      "source": [
        "###Removing punctuations"
      ],
      "metadata": {
        "id": "iMste5zMHxyG"
      }
    },
    {
      "cell_type": "code",
      "source": [
        "data=train.iloc[:,2:27]\n",
        "data.replace(\"[^a-zA-Z]\",\" \",regex=True, inplace=True)"
      ],
      "metadata": {
        "id": "kdYIpXDtHDdS"
      },
      "execution_count": 30,
      "outputs": []
    },
    {
      "cell_type": "markdown",
      "source": [
        "###Renaming column names for ease of access"
      ],
      "metadata": {
        "id": "lEF9ab2JHtCQ"
      }
    },
    {
      "cell_type": "code",
      "source": [
        "list1= [i for i in range(25)]\n",
        "new_Index=[str(i) for i in list1]\n",
        "data.columns= new_Index\n",
        "data.head(5)"
      ],
      "metadata": {
        "colab": {
          "base_uri": "https://localhost:8080/",
          "height": 768
        },
        "id": "uPnik3gcHrXI",
        "outputId": "25ef982c-6895-48a8-f31e-c5a8290e464e"
      },
      "execution_count": 31,
      "outputs": [
        {
          "output_type": "execute_result",
          "data": {
            "text/plain": [
              "                                                   0  \\\n",
              "0  b Georgia  downs two Russian warplanes  as cou...   \n",
              "1  b Why wont America and Nato help us  If they w...   \n",
              "2  b Remember that adorable   year old who sang a...   \n",
              "3  b  U S  refuses Israel weapons to attack Iran ...   \n",
              "4  b All the experts admit that we should legalis...   \n",
              "\n",
              "                                                   1  \\\n",
              "0            b BREAKING  Musharraf to be impeached     \n",
              "1        b Bush puts foot down on Georgian conflict    \n",
              "2                 b Russia  ends Georgia operation     \n",
              "3  b When the president ordered to attack Tskhinv...   \n",
              "4  b War in South Osetia      pictures made by a ...   \n",
              "\n",
              "                                                   2  \\\n",
              "0  b Russia Today  Columns of troops roll into So...   \n",
              "1  b Jewish Georgian minister  Thanks to Israeli ...   \n",
              "2  b  If we had no sexual harassment we would hav...   \n",
              "3  b  Israel clears troops who killed Reuters cam...   \n",
              "4  b Swedish wrestler Ara Abrahamian throws away ...   \n",
              "\n",
              "                                                   3  \\\n",
              "0  b Russian tanks are moving towards the capital...   \n",
              "1  b Georgian army flees in disarray as Russians ...   \n",
              "2  b Al Qa eda is losing support in Iraq because ...   \n",
              "3  b Britain  s policy of being tough on drugs is...   \n",
              "4  b Russia exaggerated the death toll in South O...   \n",
              "\n",
              "                                                   4  \\\n",
              "0  b Afghan children raped with  impunity   U N  ...   \n",
              "1      b Olympic opening ceremony fireworks  faked     \n",
              "2  b Ceasefire in Georgia  Putin Outmaneuvers the...   \n",
              "3  b Body of    year old found in trunk  Latest  ...   \n",
              "4  b Missile That Killed   Inside Pakistan May Ha...   \n",
              "\n",
              "                                                   5  \\\n",
              "0  b     Russian tanks have entered South Ossetia...   \n",
              "1  b What were the Mossad with fraudulent New Zea...   \n",
              "2  b Why Microsoft and Intel tried to kill the XO...   \n",
              "3  b China has moved     million  quake survivors...   \n",
              "4  b Rushdie Condemns Random House s Refusal to P...   \n",
              "\n",
              "                                                   6  \\\n",
              "0  b Breaking  Georgia invades South Ossetia  Rus...   \n",
              "1  b Russia angered by Israeli military sale to G...   \n",
              "2  b Stratfor  The Russo Georgian War and the Bal...   \n",
              "3  b Bush announces Operation Get All Up In Russi...   \n",
              "4  b Poland and US agree to missle defense deal  ...   \n",
              "\n",
              "                                                   7  \\\n",
              "0  b The  enemy combatent  trials are nothing but...   \n",
              "1  b An American citizen living in S Ossetia blam...   \n",
              "2  b I m Trying to Get a Sense of This Whole Geor...   \n",
              "3             b Russian forces sink Georgian ships     \n",
              "4  b Will the Russians conquer Tblisi  Bet on it ...   \n",
              "\n",
              "                                                   8  \\\n",
              "0  b Georgian troops retreat from S  Osettain cap...   \n",
              "1  b Welcome To World War IV  Now In High Definit...   \n",
              "2  b The US military was surprised by the timing ...   \n",
              "3  b The commander of a Navy air reconnaissance s...   \n",
              "4  b Russia exaggerating South Ossetian death tol...   \n",
              "\n",
              "                                                   9  ...  \\\n",
              "0  b Did the U S  Prep Georgia for War with Russia    ...   \n",
              "1  b Georgia s move  a mistake of monumental prop...  ...   \n",
              "2    b U S  Beats War Drum as Iran Dumps the Dollar   ...   \n",
              "3  b     of CNN readers  Russia s actions in Geor...  ...   \n",
              "4  b  Musharraf expected to resign rather than fa...  ...   \n",
              "\n",
              "                                                  15  \\\n",
              "0  b Georgia Invades South Ossetia   if Russia ge...   \n",
              "1  b Israel and the US behind the Georgian aggres...   \n",
              "2  b U S  troops still in Georgia  did you know t...   \n",
              "3                      b Elephants extinct by          \n",
              "4  b Bank analyst forecast Georgian crisis   days...   \n",
              "\n",
              "                                                  16  \\\n",
              "0                b Al Qaeda Faces Islamist Backlash    \n",
              "1  b  Do not believe TV  neither Russian nor Geor...   \n",
              "2       b Why Russias response to Georgia was right    \n",
              "3  b US humanitarian missions soon in Georgia   i...   \n",
              "4  b Georgia confict could set back Russia s US r...   \n",
              "\n",
              "                                                  17  \\\n",
              "0  b Condoleezza Rice   The US would not act to p...   \n",
              "1  b Riots are still going on in Montreal  Canada...   \n",
              "2  b Gorbachev accuses U S  of making a  serious ...   \n",
              "3             b Georgia s DDOS came from US sources    \n",
              "4  b War in the Caucasus is as much the product o...   \n",
              "\n",
              "                                                  18  \\\n",
              "0  b This is a busy day   The European Union has ...   \n",
              "1    b China to overtake US as largest manufacturer    \n",
              "2         b Russia  Georgia  and NATO  Cold War Two    \n",
              "3  b Russian convoy heads into Georgia  violating...   \n",
              "4  b  Non media  photos of South Ossetia Georgia ...   \n",
              "\n",
              "                                                  19  \\\n",
              "0  b Georgia will withdraw       soldiers from Ir...   \n",
              "1                     b War in South Ossetia  PICS     \n",
              "2  b Remember that adorable    year old who led y...   \n",
              "3  b Israeli defence minister  US against strike ...   \n",
              "4  b Georgian TV reporter shot by Russian sniper ...   \n",
              "\n",
              "                                                  20  \\\n",
              "0  b Why the Pentagon Thinks Attacking Iran is a ...   \n",
              "1  b Israeli Physicians Group Condemns State Tort...   \n",
              "2          b War in Georgia  The Israeli connection    \n",
              "3                     b Gorbachev  We Had No Choice    \n",
              "4  b Saudi Arabia  Mother moves to block child ma...   \n",
              "\n",
              "                                                  21  \\\n",
              "0  b Caucasus in crisis  Georgia invades South Os...   \n",
              "1  b  Russia has just beaten the United States ov...   \n",
              "2  b All signs point to the US encouraging Georgi...   \n",
              "3  b Witness  Russian forces head towards Tbilisi...   \n",
              "4   b Taliban wages war on humanitarian aid workers    \n",
              "\n",
              "                                                  22  \\\n",
              "0  b Indian shoe manufactory    And again in a se...   \n",
              "1  b Perhaps  the  question about the Georgia   R...   \n",
              "2  b Christopher King argues that the US and NATO...   \n",
              "3  b  Quarter of Russians blame U S  for conflict...   \n",
              "4  b Russia  World   can forget about  Georgia  s...   \n",
              "\n",
              "                                                  23  \\\n",
              "0  b Visitors Suffering from Mental Illnesses Ban...   \n",
              "1                 b Russia is so much better at war    \n",
              "2                        b America  The New Mexico     \n",
              "3  b Georgian president  says US military will ta...   \n",
              "4  b Darfur rebels accuse Sudan of mounting major...   \n",
              "\n",
              "                                                  24  \n",
              "0           b No Help for Mexico s Kidnapping Surge   \n",
              "1  b So this is what it s come to  trading sex fo...  \n",
              "2  b BBC NEWS   Asia Pacific   Extinction  by man...  \n",
              "3  b       Nobel laureate Aleksander Solzhenitsyn...  \n",
              "4  b Philippines   Peace Advocate say Muslims nee...  \n",
              "\n",
              "[5 rows x 25 columns]"
            ],
            "text/html": [
              "\n",
              "  <div id=\"df-2aac6185-64f3-4539-b45d-a18fe56fd746\">\n",
              "    <div class=\"colab-df-container\">\n",
              "      <div>\n",
              "<style scoped>\n",
              "    .dataframe tbody tr th:only-of-type {\n",
              "        vertical-align: middle;\n",
              "    }\n",
              "\n",
              "    .dataframe tbody tr th {\n",
              "        vertical-align: top;\n",
              "    }\n",
              "\n",
              "    .dataframe thead th {\n",
              "        text-align: right;\n",
              "    }\n",
              "</style>\n",
              "<table border=\"1\" class=\"dataframe\">\n",
              "  <thead>\n",
              "    <tr style=\"text-align: right;\">\n",
              "      <th></th>\n",
              "      <th>0</th>\n",
              "      <th>1</th>\n",
              "      <th>2</th>\n",
              "      <th>3</th>\n",
              "      <th>4</th>\n",
              "      <th>5</th>\n",
              "      <th>6</th>\n",
              "      <th>7</th>\n",
              "      <th>8</th>\n",
              "      <th>9</th>\n",
              "      <th>...</th>\n",
              "      <th>15</th>\n",
              "      <th>16</th>\n",
              "      <th>17</th>\n",
              "      <th>18</th>\n",
              "      <th>19</th>\n",
              "      <th>20</th>\n",
              "      <th>21</th>\n",
              "      <th>22</th>\n",
              "      <th>23</th>\n",
              "      <th>24</th>\n",
              "    </tr>\n",
              "  </thead>\n",
              "  <tbody>\n",
              "    <tr>\n",
              "      <th>0</th>\n",
              "      <td>b Georgia  downs two Russian warplanes  as cou...</td>\n",
              "      <td>b BREAKING  Musharraf to be impeached</td>\n",
              "      <td>b Russia Today  Columns of troops roll into So...</td>\n",
              "      <td>b Russian tanks are moving towards the capital...</td>\n",
              "      <td>b Afghan children raped with  impunity   U N  ...</td>\n",
              "      <td>b     Russian tanks have entered South Ossetia...</td>\n",
              "      <td>b Breaking  Georgia invades South Ossetia  Rus...</td>\n",
              "      <td>b The  enemy combatent  trials are nothing but...</td>\n",
              "      <td>b Georgian troops retreat from S  Osettain cap...</td>\n",
              "      <td>b Did the U S  Prep Georgia for War with Russia</td>\n",
              "      <td>...</td>\n",
              "      <td>b Georgia Invades South Ossetia   if Russia ge...</td>\n",
              "      <td>b Al Qaeda Faces Islamist Backlash</td>\n",
              "      <td>b Condoleezza Rice   The US would not act to p...</td>\n",
              "      <td>b This is a busy day   The European Union has ...</td>\n",
              "      <td>b Georgia will withdraw       soldiers from Ir...</td>\n",
              "      <td>b Why the Pentagon Thinks Attacking Iran is a ...</td>\n",
              "      <td>b Caucasus in crisis  Georgia invades South Os...</td>\n",
              "      <td>b Indian shoe manufactory    And again in a se...</td>\n",
              "      <td>b Visitors Suffering from Mental Illnesses Ban...</td>\n",
              "      <td>b No Help for Mexico s Kidnapping Surge</td>\n",
              "    </tr>\n",
              "    <tr>\n",
              "      <th>1</th>\n",
              "      <td>b Why wont America and Nato help us  If they w...</td>\n",
              "      <td>b Bush puts foot down on Georgian conflict</td>\n",
              "      <td>b Jewish Georgian minister  Thanks to Israeli ...</td>\n",
              "      <td>b Georgian army flees in disarray as Russians ...</td>\n",
              "      <td>b Olympic opening ceremony fireworks  faked</td>\n",
              "      <td>b What were the Mossad with fraudulent New Zea...</td>\n",
              "      <td>b Russia angered by Israeli military sale to G...</td>\n",
              "      <td>b An American citizen living in S Ossetia blam...</td>\n",
              "      <td>b Welcome To World War IV  Now In High Definit...</td>\n",
              "      <td>b Georgia s move  a mistake of monumental prop...</td>\n",
              "      <td>...</td>\n",
              "      <td>b Israel and the US behind the Georgian aggres...</td>\n",
              "      <td>b  Do not believe TV  neither Russian nor Geor...</td>\n",
              "      <td>b Riots are still going on in Montreal  Canada...</td>\n",
              "      <td>b China to overtake US as largest manufacturer</td>\n",
              "      <td>b War in South Ossetia  PICS</td>\n",
              "      <td>b Israeli Physicians Group Condemns State Tort...</td>\n",
              "      <td>b  Russia has just beaten the United States ov...</td>\n",
              "      <td>b Perhaps  the  question about the Georgia   R...</td>\n",
              "      <td>b Russia is so much better at war</td>\n",
              "      <td>b So this is what it s come to  trading sex fo...</td>\n",
              "    </tr>\n",
              "    <tr>\n",
              "      <th>2</th>\n",
              "      <td>b Remember that adorable   year old who sang a...</td>\n",
              "      <td>b Russia  ends Georgia operation</td>\n",
              "      <td>b  If we had no sexual harassment we would hav...</td>\n",
              "      <td>b Al Qa eda is losing support in Iraq because ...</td>\n",
              "      <td>b Ceasefire in Georgia  Putin Outmaneuvers the...</td>\n",
              "      <td>b Why Microsoft and Intel tried to kill the XO...</td>\n",
              "      <td>b Stratfor  The Russo Georgian War and the Bal...</td>\n",
              "      <td>b I m Trying to Get a Sense of This Whole Geor...</td>\n",
              "      <td>b The US military was surprised by the timing ...</td>\n",
              "      <td>b U S  Beats War Drum as Iran Dumps the Dollar</td>\n",
              "      <td>...</td>\n",
              "      <td>b U S  troops still in Georgia  did you know t...</td>\n",
              "      <td>b Why Russias response to Georgia was right</td>\n",
              "      <td>b Gorbachev accuses U S  of making a  serious ...</td>\n",
              "      <td>b Russia  Georgia  and NATO  Cold War Two</td>\n",
              "      <td>b Remember that adorable    year old who led y...</td>\n",
              "      <td>b War in Georgia  The Israeli connection</td>\n",
              "      <td>b All signs point to the US encouraging Georgi...</td>\n",
              "      <td>b Christopher King argues that the US and NATO...</td>\n",
              "      <td>b America  The New Mexico</td>\n",
              "      <td>b BBC NEWS   Asia Pacific   Extinction  by man...</td>\n",
              "    </tr>\n",
              "    <tr>\n",
              "      <th>3</th>\n",
              "      <td>b  U S  refuses Israel weapons to attack Iran ...</td>\n",
              "      <td>b When the president ordered to attack Tskhinv...</td>\n",
              "      <td>b  Israel clears troops who killed Reuters cam...</td>\n",
              "      <td>b Britain  s policy of being tough on drugs is...</td>\n",
              "      <td>b Body of    year old found in trunk  Latest  ...</td>\n",
              "      <td>b China has moved     million  quake survivors...</td>\n",
              "      <td>b Bush announces Operation Get All Up In Russi...</td>\n",
              "      <td>b Russian forces sink Georgian ships</td>\n",
              "      <td>b The commander of a Navy air reconnaissance s...</td>\n",
              "      <td>b     of CNN readers  Russia s actions in Geor...</td>\n",
              "      <td>...</td>\n",
              "      <td>b Elephants extinct by</td>\n",
              "      <td>b US humanitarian missions soon in Georgia   i...</td>\n",
              "      <td>b Georgia s DDOS came from US sources</td>\n",
              "      <td>b Russian convoy heads into Georgia  violating...</td>\n",
              "      <td>b Israeli defence minister  US against strike ...</td>\n",
              "      <td>b Gorbachev  We Had No Choice</td>\n",
              "      <td>b Witness  Russian forces head towards Tbilisi...</td>\n",
              "      <td>b  Quarter of Russians blame U S  for conflict...</td>\n",
              "      <td>b Georgian president  says US military will ta...</td>\n",
              "      <td>b       Nobel laureate Aleksander Solzhenitsyn...</td>\n",
              "    </tr>\n",
              "    <tr>\n",
              "      <th>4</th>\n",
              "      <td>b All the experts admit that we should legalis...</td>\n",
              "      <td>b War in South Osetia      pictures made by a ...</td>\n",
              "      <td>b Swedish wrestler Ara Abrahamian throws away ...</td>\n",
              "      <td>b Russia exaggerated the death toll in South O...</td>\n",
              "      <td>b Missile That Killed   Inside Pakistan May Ha...</td>\n",
              "      <td>b Rushdie Condemns Random House s Refusal to P...</td>\n",
              "      <td>b Poland and US agree to missle defense deal  ...</td>\n",
              "      <td>b Will the Russians conquer Tblisi  Bet on it ...</td>\n",
              "      <td>b Russia exaggerating South Ossetian death tol...</td>\n",
              "      <td>b  Musharraf expected to resign rather than fa...</td>\n",
              "      <td>...</td>\n",
              "      <td>b Bank analyst forecast Georgian crisis   days...</td>\n",
              "      <td>b Georgia confict could set back Russia s US r...</td>\n",
              "      <td>b War in the Caucasus is as much the product o...</td>\n",
              "      <td>b  Non media  photos of South Ossetia Georgia ...</td>\n",
              "      <td>b Georgian TV reporter shot by Russian sniper ...</td>\n",
              "      <td>b Saudi Arabia  Mother moves to block child ma...</td>\n",
              "      <td>b Taliban wages war on humanitarian aid workers</td>\n",
              "      <td>b Russia  World   can forget about  Georgia  s...</td>\n",
              "      <td>b Darfur rebels accuse Sudan of mounting major...</td>\n",
              "      <td>b Philippines   Peace Advocate say Muslims nee...</td>\n",
              "    </tr>\n",
              "  </tbody>\n",
              "</table>\n",
              "<p>5 rows × 25 columns</p>\n",
              "</div>\n",
              "      <button class=\"colab-df-convert\" onclick=\"convertToInteractive('df-2aac6185-64f3-4539-b45d-a18fe56fd746')\"\n",
              "              title=\"Convert this dataframe to an interactive table.\"\n",
              "              style=\"display:none;\">\n",
              "        \n",
              "  <svg xmlns=\"http://www.w3.org/2000/svg\" height=\"24px\"viewBox=\"0 0 24 24\"\n",
              "       width=\"24px\">\n",
              "    <path d=\"M0 0h24v24H0V0z\" fill=\"none\"/>\n",
              "    <path d=\"M18.56 5.44l.94 2.06.94-2.06 2.06-.94-2.06-.94-.94-2.06-.94 2.06-2.06.94zm-11 1L8.5 8.5l.94-2.06 2.06-.94-2.06-.94L8.5 2.5l-.94 2.06-2.06.94zm10 10l.94 2.06.94-2.06 2.06-.94-2.06-.94-.94-2.06-.94 2.06-2.06.94z\"/><path d=\"M17.41 7.96l-1.37-1.37c-.4-.4-.92-.59-1.43-.59-.52 0-1.04.2-1.43.59L10.3 9.45l-7.72 7.72c-.78.78-.78 2.05 0 2.83L4 21.41c.39.39.9.59 1.41.59.51 0 1.02-.2 1.41-.59l7.78-7.78 2.81-2.81c.8-.78.8-2.07 0-2.86zM5.41 20L4 18.59l7.72-7.72 1.47 1.35L5.41 20z\"/>\n",
              "  </svg>\n",
              "      </button>\n",
              "      \n",
              "  <style>\n",
              "    .colab-df-container {\n",
              "      display:flex;\n",
              "      flex-wrap:wrap;\n",
              "      gap: 12px;\n",
              "    }\n",
              "\n",
              "    .colab-df-convert {\n",
              "      background-color: #E8F0FE;\n",
              "      border: none;\n",
              "      border-radius: 50%;\n",
              "      cursor: pointer;\n",
              "      display: none;\n",
              "      fill: #1967D2;\n",
              "      height: 32px;\n",
              "      padding: 0 0 0 0;\n",
              "      width: 32px;\n",
              "    }\n",
              "\n",
              "    .colab-df-convert:hover {\n",
              "      background-color: #E2EBFA;\n",
              "      box-shadow: 0px 1px 2px rgba(60, 64, 67, 0.3), 0px 1px 3px 1px rgba(60, 64, 67, 0.15);\n",
              "      fill: #174EA6;\n",
              "    }\n",
              "\n",
              "    [theme=dark] .colab-df-convert {\n",
              "      background-color: #3B4455;\n",
              "      fill: #D2E3FC;\n",
              "    }\n",
              "\n",
              "    [theme=dark] .colab-df-convert:hover {\n",
              "      background-color: #434B5C;\n",
              "      box-shadow: 0px 1px 3px 1px rgba(0, 0, 0, 0.15);\n",
              "      filter: drop-shadow(0px 1px 2px rgba(0, 0, 0, 0.3));\n",
              "      fill: #FFFFFF;\n",
              "    }\n",
              "  </style>\n",
              "\n",
              "      <script>\n",
              "        const buttonEl =\n",
              "          document.querySelector('#df-2aac6185-64f3-4539-b45d-a18fe56fd746 button.colab-df-convert');\n",
              "        buttonEl.style.display =\n",
              "          google.colab.kernel.accessAllowed ? 'block' : 'none';\n",
              "\n",
              "        async function convertToInteractive(key) {\n",
              "          const element = document.querySelector('#df-2aac6185-64f3-4539-b45d-a18fe56fd746');\n",
              "          const dataTable =\n",
              "            await google.colab.kernel.invokeFunction('convertToInteractive',\n",
              "                                                     [key], {});\n",
              "          if (!dataTable) return;\n",
              "\n",
              "          const docLinkHtml = 'Like what you see? Visit the ' +\n",
              "            '<a target=\"_blank\" href=https://colab.research.google.com/notebooks/data_table.ipynb>data table notebook</a>'\n",
              "            + ' to learn more about interactive tables.';\n",
              "          element.innerHTML = '';\n",
              "          dataTable['output_type'] = 'display_data';\n",
              "          await google.colab.output.renderOutput(dataTable, element);\n",
              "          const docLink = document.createElement('div');\n",
              "          docLink.innerHTML = docLinkHtml;\n",
              "          element.appendChild(docLink);\n",
              "        }\n",
              "      </script>\n",
              "    </div>\n",
              "  </div>\n",
              "  "
            ]
          },
          "metadata": {},
          "execution_count": 31
        }
      ]
    },
    {
      "cell_type": "markdown",
      "source": [
        "### Convert Columns to text"
      ],
      "metadata": {
        "id": "DavnAJVHIZ0H"
      }
    },
    {
      "cell_type": "code",
      "source": [
        "' '.join(str(x) for x in data.iloc[0,0:25])"
      ],
      "metadata": {
        "colab": {
          "base_uri": "https://localhost:8080/",
          "height": 174
        },
        "id": "16S54sKnHcGj",
        "outputId": "80f6d5d8-dd24-4a54-dd84-bccc50248bd9"
      },
      "execution_count": 35,
      "outputs": [
        {
          "output_type": "execute_result",
          "data": {
            "text/plain": [
              "'b Georgia  downs two Russian warplanes  as countries move to brink of war  b BREAKING  Musharraf to be impeached   b Russia Today  Columns of troops roll into South Ossetia  footage from fighting  YouTube   b Russian tanks are moving towards the capital of South Ossetia  which has reportedly been completely destroyed by Georgian artillery fire  b Afghan children raped with  impunity   U N  official says   this is sick  a three year old was raped and they do nothing  b     Russian tanks have entered South Ossetia whilst Georgia shoots down two Russian jets   b Breaking  Georgia invades South Ossetia  Russia warned it would intervene on SO s side  b The  enemy combatent  trials are nothing but a sham  Salim Haman has been sentenced to       years  but will be kept longer anyway just because they feel like it   b Georgian troops retreat from S  Osettain capital  presumably leaving several hundred people killed   VIDEO   b Did the U S  Prep Georgia for War with Russia   b Rice Gives Green Light for Israel to Attack Iran  Says U S  has no veto over Israeli military ops  b Announcing Class Action Lawsuit on Behalf of American Public Against the FBI  b So   Russia and Georgia are at war and the NYT s top story is opening ceremonies of the Olympics   What a fucking disgrace and yet further proof of the decline of journalism   b China tells Bush to stay out of other countries  affairs  b Did World War III start today   b Georgia Invades South Ossetia   if Russia gets involved  will NATO absorb Georgia and unleash a full scale war   b Al Qaeda Faces Islamist Backlash  b Condoleezza Rice   The US would not act to prevent an Israeli strike on Iran   Israeli Defense Minister Ehud Barak   Israel is prepared for uncompromising victory in the case of military hostilities    b This is a busy day   The European Union has approved new sanctions against Iran in protest at its nuclear programme   b Georgia will withdraw       soldiers from Iraq to help fight off Russian forces in Georgia s breakaway region of South Ossetia  b Why the Pentagon Thinks Attacking Iran is a Bad Idea   US News  amp  World Report  b Caucasus in crisis  Georgia invades South Ossetia  b Indian shoe manufactory    And again in a series of  you do not like your work    b Visitors Suffering from Mental Illnesses Banned from Olympics  b No Help for Mexico s Kidnapping Surge '"
            ],
            "application/vnd.google.colaboratory.intrinsic+json": {
              "type": "string"
            }
          },
          "metadata": {},
          "execution_count": 35
        }
      ]
    },
    {
      "cell_type": "code",
      "source": [
        "headlines = []\n",
        "for row in range(len(data.index)):\n",
        "    headlines.append(' '.join(str(x) for x in data.iloc[row,0:25]))"
      ],
      "metadata": {
        "id": "5PisNmsOIGsd"
      },
      "execution_count": 36,
      "outputs": []
    },
    {
      "cell_type": "code",
      "source": [
        "headlines[0]"
      ],
      "metadata": {
        "colab": {
          "base_uri": "https://localhost:8080/",
          "height": 174
        },
        "id": "jqihxZpnINOo",
        "outputId": "9ffc0394-7e34-42ae-ae56-6514f9019a12"
      },
      "execution_count": 37,
      "outputs": [
        {
          "output_type": "execute_result",
          "data": {
            "text/plain": [
              "'b Georgia  downs two Russian warplanes  as countries move to brink of war  b BREAKING  Musharraf to be impeached   b Russia Today  Columns of troops roll into South Ossetia  footage from fighting  YouTube   b Russian tanks are moving towards the capital of South Ossetia  which has reportedly been completely destroyed by Georgian artillery fire  b Afghan children raped with  impunity   U N  official says   this is sick  a three year old was raped and they do nothing  b     Russian tanks have entered South Ossetia whilst Georgia shoots down two Russian jets   b Breaking  Georgia invades South Ossetia  Russia warned it would intervene on SO s side  b The  enemy combatent  trials are nothing but a sham  Salim Haman has been sentenced to       years  but will be kept longer anyway just because they feel like it   b Georgian troops retreat from S  Osettain capital  presumably leaving several hundred people killed   VIDEO   b Did the U S  Prep Georgia for War with Russia   b Rice Gives Green Light for Israel to Attack Iran  Says U S  has no veto over Israeli military ops  b Announcing Class Action Lawsuit on Behalf of American Public Against the FBI  b So   Russia and Georgia are at war and the NYT s top story is opening ceremonies of the Olympics   What a fucking disgrace and yet further proof of the decline of journalism   b China tells Bush to stay out of other countries  affairs  b Did World War III start today   b Georgia Invades South Ossetia   if Russia gets involved  will NATO absorb Georgia and unleash a full scale war   b Al Qaeda Faces Islamist Backlash  b Condoleezza Rice   The US would not act to prevent an Israeli strike on Iran   Israeli Defense Minister Ehud Barak   Israel is prepared for uncompromising victory in the case of military hostilities    b This is a busy day   The European Union has approved new sanctions against Iran in protest at its nuclear programme   b Georgia will withdraw       soldiers from Iraq to help fight off Russian forces in Georgia s breakaway region of South Ossetia  b Why the Pentagon Thinks Attacking Iran is a Bad Idea   US News  amp  World Report  b Caucasus in crisis  Georgia invades South Ossetia  b Indian shoe manufactory    And again in a series of  you do not like your work    b Visitors Suffering from Mental Illnesses Banned from Olympics  b No Help for Mexico s Kidnapping Surge '"
            ],
            "application/vnd.google.colaboratory.intrinsic+json": {
              "type": "string"
            }
          },
          "metadata": {},
          "execution_count": 37
        }
      ]
    },
    {
      "cell_type": "markdown",
      "source": [
        "###Train Model"
      ],
      "metadata": {
        "id": "nSRZMH7dIpMY"
      }
    },
    {
      "cell_type": "code",
      "source": [
        "from sklearn.feature_extraction.text import CountVectorizer\n",
        "from sklearn.ensemble import RandomForestClassifier\n",
        "from sklearn.metrics import classification_report,confusion_matrix,accuracy_score"
      ],
      "metadata": {
        "id": "xJyWoxFjIotJ"
      },
      "execution_count": 42,
      "outputs": []
    },
    {
      "cell_type": "markdown",
      "source": [
        "#### implement BAG OF WORDS"
      ],
      "metadata": {
        "id": "K4MPkFdiIu1p"
      }
    },
    {
      "cell_type": "code",
      "source": [
        "countvector=CountVectorizer(ngram_range=(2,2))\n",
        "traindataset=countvector.fit_transform(headlines)"
      ],
      "metadata": {
        "id": "kVxs17SuIPNh"
      },
      "execution_count": 39,
      "outputs": []
    },
    {
      "cell_type": "markdown",
      "source": [
        "####implement RandomForest Classifier"
      ],
      "metadata": {
        "id": "MCk0LI1lI7Co"
      }
    },
    {
      "cell_type": "code",
      "source": [
        "randomclassifier=RandomForestClassifier(n_estimators=200,criterion='entropy')\n",
        "randomclassifier.fit(traindataset,train['Label'])"
      ],
      "metadata": {
        "colab": {
          "base_uri": "https://localhost:8080/"
        },
        "id": "8JpkuebPI2XZ",
        "outputId": "89fd2ee3-10fd-468f-e75b-7113b1ea06eb"
      },
      "execution_count": 40,
      "outputs": [
        {
          "output_type": "execute_result",
          "data": {
            "text/plain": [
              "RandomForestClassifier(criterion='entropy', n_estimators=200)"
            ]
          },
          "metadata": {},
          "execution_count": 40
        }
      ]
    },
    {
      "cell_type": "markdown",
      "source": [
        "####Predict for the Test Dataset"
      ],
      "metadata": {
        "id": "fGRy7eUVJB7U"
      }
    },
    {
      "cell_type": "code",
      "source": [
        "test_transform= []\n",
        "for row in range(0,len(test.index)):\n",
        "    test_transform.append(' '.join(str(x) for x in test.iloc[row,2:27]))\n",
        "test_dataset = countvector.transform(test_transform)\n",
        "predictions = randomclassifier.predict(test_dataset)"
      ],
      "metadata": {
        "id": "hJPgPEWNI-e7"
      },
      "execution_count": 41,
      "outputs": []
    },
    {
      "cell_type": "code",
      "source": [
        "matrix=confusion_matrix(test['Label'],predictions)\n",
        "print(matrix)\n",
        "score=accuracy_score(test['Label'],predictions)\n",
        "print(score)\n",
        "report=classification_report(test['Label'],predictions)\n",
        "print(report)"
      ],
      "metadata": {
        "colab": {
          "base_uri": "https://localhost:8080/"
        },
        "id": "cKpDAmBmJGKR",
        "outputId": "920ee3cb-c1a2-47d9-9836-3f9549f68859"
      },
      "execution_count": 43,
      "outputs": [
        {
          "output_type": "stream",
          "name": "stdout",
          "text": [
            "[[131  55]\n",
            " [  2 190]]\n",
            "0.8492063492063492\n",
            "              precision    recall  f1-score   support\n",
            "\n",
            "           0       0.98      0.70      0.82       186\n",
            "           1       0.78      0.99      0.87       192\n",
            "\n",
            "    accuracy                           0.85       378\n",
            "   macro avg       0.88      0.85      0.85       378\n",
            "weighted avg       0.88      0.85      0.85       378\n",
            "\n"
          ]
        }
      ]
    },
    {
      "cell_type": "code",
      "source": [
        ""
      ],
      "metadata": {
        "id": "Nij-Zjo3JQqy"
      },
      "execution_count": null,
      "outputs": []
    }
  ]
}